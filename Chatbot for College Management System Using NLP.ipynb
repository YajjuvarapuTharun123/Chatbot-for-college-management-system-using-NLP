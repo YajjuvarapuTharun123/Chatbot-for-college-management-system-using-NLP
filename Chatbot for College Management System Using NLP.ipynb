{
 "cells": [
  {
   "cell_type": "code",
   "execution_count": 1,
   "id": "013dd18d-9db3-405c-af3c-849120534952",
   "metadata": {},
   "outputs": [],
   "source": [
    "import pandas as pd\n",
    "import numpy as np\n",
    "import matplotlib.pyplot as plt\n",
    "import seaborn as sns\n",
    "import tensorflow as tf\n",
    "import json\n",
    "from sklearn.preprocessing import LabelEncoder\n",
    "from tensorflow.keras.preprocessing.text import Tokenizer\n",
    "from tensorflow.keras.preprocessing.sequence import pad_sequences\n",
    "from tensorflow import keras\n",
    "from tensorflow.keras.models import Sequential\n",
    "from tensorflow.keras.layers import Input, Embedding, LSTM, LayerNormalization, Dense, Dropout\n",
    "from tensorflow.keras.utils import plot_model"
   ]
  },
  {
   "cell_type": "code",
   "execution_count": 3,
   "id": "9bd4ee45-723f-4830-954c-fbd48e69e46e",
   "metadata": {},
   "outputs": [
    {
     "data": {
      "text/html": [
       "<div>\n",
       "<style scoped>\n",
       "    .dataframe tbody tr th:only-of-type {\n",
       "        vertical-align: middle;\n",
       "    }\n",
       "\n",
       "    .dataframe tbody tr th {\n",
       "        vertical-align: top;\n",
       "    }\n",
       "\n",
       "    .dataframe thead th {\n",
       "        text-align: right;\n",
       "    }\n",
       "</style>\n",
       "<table border=\"1\" class=\"dataframe\">\n",
       "  <thead>\n",
       "    <tr style=\"text-align: right;\">\n",
       "      <th></th>\n",
       "      <th>intent</th>\n",
       "      <th>text</th>\n",
       "      <th>responses</th>\n",
       "    </tr>\n",
       "  </thead>\n",
       "  <tbody>\n",
       "    <tr>\n",
       "      <th>0</th>\n",
       "      <td>greeting</td>\n",
       "      <td>[Hi, Hello, Hey, Good day, How are you?]</td>\n",
       "      <td>[Hello!, Good to see you!, Hi there, how can I...</td>\n",
       "    </tr>\n",
       "    <tr>\n",
       "      <th>1</th>\n",
       "      <td>farewell</td>\n",
       "      <td>[Goodbye, Bye, See you later, Talk to you later]</td>\n",
       "      <td>[Sad to see you go :(, Goodbye!, Come back soon!]</td>\n",
       "    </tr>\n",
       "    <tr>\n",
       "      <th>2</th>\n",
       "      <td>creator</td>\n",
       "      <td>[Who created you?, Who is your developer?, Who...</td>\n",
       "      <td>[I was created by Strydo Technologies PVt.LTD.]</td>\n",
       "    </tr>\n",
       "    <tr>\n",
       "      <th>3</th>\n",
       "      <td>identity</td>\n",
       "      <td>[What is your name?, What should I call you?, ...</td>\n",
       "      <td>[You can call me Mind Reader. I'm a Chatbot.]</td>\n",
       "    </tr>\n",
       "    <tr>\n",
       "      <th>4</th>\n",
       "      <td>communication</td>\n",
       "      <td>[How can I communicate with the university or ...</td>\n",
       "      <td>[You can communicate with the university throu...</td>\n",
       "    </tr>\n",
       "  </tbody>\n",
       "</table>\n",
       "</div>"
      ],
      "text/plain": [
       "          intent                                               text  \\\n",
       "0       greeting           [Hi, Hello, Hey, Good day, How are you?]   \n",
       "1       farewell   [Goodbye, Bye, See you later, Talk to you later]   \n",
       "2        creator  [Who created you?, Who is your developer?, Who...   \n",
       "3       identity  [What is your name?, What should I call you?, ...   \n",
       "4  communication  [How can I communicate with the university or ...   \n",
       "\n",
       "                                           responses  \n",
       "0  [Hello!, Good to see you!, Hi there, how can I...  \n",
       "1  [Sad to see you go :(, Goodbye!, Come back soon!]  \n",
       "2    [I was created by Strydo Technologies PVt.LTD.]  \n",
       "3      [You can call me Mind Reader. I'm a Chatbot.]  \n",
       "4  [You can communicate with the university throu...  "
      ]
     },
     "execution_count": 3,
     "metadata": {},
     "output_type": "execute_result"
    }
   ],
   "source": [
    "import json\n",
    "\n",
    "with open(r'C:\\Users\\91630\\Desktop\\college_intents.json') as f:\n",
    "    data = json.load(f)\n",
    "\n",
    "df = pd.DataFrame(data['intents'])\n",
    "df.head()"
   ]
  },
  {
   "cell_type": "code",
   "execution_count": 5,
   "id": "ae167ec4-5881-4ab4-954d-009d1c9e247c",
   "metadata": {},
   "outputs": [
    {
     "data": {
      "text/html": [
       "<div>\n",
       "<style scoped>\n",
       "    .dataframe tbody tr th:only-of-type {\n",
       "        vertical-align: middle;\n",
       "    }\n",
       "\n",
       "    .dataframe tbody tr th {\n",
       "        vertical-align: top;\n",
       "    }\n",
       "\n",
       "    .dataframe thead th {\n",
       "        text-align: right;\n",
       "    }\n",
       "</style>\n",
       "<table border=\"1\" class=\"dataframe\">\n",
       "  <thead>\n",
       "    <tr style=\"text-align: right;\">\n",
       "      <th></th>\n",
       "      <th>intent</th>\n",
       "      <th>text</th>\n",
       "      <th>responses</th>\n",
       "    </tr>\n",
       "  </thead>\n",
       "  <tbody>\n",
       "    <tr>\n",
       "      <th>0</th>\n",
       "      <td>greeting</td>\n",
       "      <td>Hi</td>\n",
       "      <td>[Hello!, Good to see you!, Hi there, how can I...</td>\n",
       "    </tr>\n",
       "    <tr>\n",
       "      <th>1</th>\n",
       "      <td>greeting</td>\n",
       "      <td>Hello</td>\n",
       "      <td>[Hello!, Good to see you!, Hi there, how can I...</td>\n",
       "    </tr>\n",
       "    <tr>\n",
       "      <th>2</th>\n",
       "      <td>greeting</td>\n",
       "      <td>Hey</td>\n",
       "      <td>[Hello!, Good to see you!, Hi there, how can I...</td>\n",
       "    </tr>\n",
       "    <tr>\n",
       "      <th>3</th>\n",
       "      <td>greeting</td>\n",
       "      <td>Good day</td>\n",
       "      <td>[Hello!, Good to see you!, Hi there, how can I...</td>\n",
       "    </tr>\n",
       "    <tr>\n",
       "      <th>4</th>\n",
       "      <td>greeting</td>\n",
       "      <td>How are you?</td>\n",
       "      <td>[Hello!, Good to see you!, Hi there, how can I...</td>\n",
       "    </tr>\n",
       "    <tr>\n",
       "      <th>...</th>\n",
       "      <td>...</td>\n",
       "      <td>...</td>\n",
       "      <td>...</td>\n",
       "    </tr>\n",
       "    <tr>\n",
       "      <th>1051</th>\n",
       "      <td>transportation_options</td>\n",
       "      <td>What are the available options for transportat...</td>\n",
       "      <td>[The college may provide shuttle services for ...</td>\n",
       "    </tr>\n",
       "    <tr>\n",
       "      <th>1052</th>\n",
       "      <td>transportation_options</td>\n",
       "      <td>Does the college provide transportation services?</td>\n",
       "      <td>[The college may provide shuttle services for ...</td>\n",
       "    </tr>\n",
       "    <tr>\n",
       "      <th>1053</th>\n",
       "      <td>transportation_options</td>\n",
       "      <td>Are there public transportation options near t...</td>\n",
       "      <td>[The college may provide shuttle services for ...</td>\n",
       "    </tr>\n",
       "    <tr>\n",
       "      <th>1054</th>\n",
       "      <td>transportation_options</td>\n",
       "      <td>Is it easy to get around the campus and surrou...</td>\n",
       "      <td>[The college may provide shuttle services for ...</td>\n",
       "    </tr>\n",
       "    <tr>\n",
       "      <th>1055</th>\n",
       "      <td>transportation_options</td>\n",
       "      <td>Are there bike-friendly paths or bike-sharing ...</td>\n",
       "      <td>[The college may provide shuttle services for ...</td>\n",
       "    </tr>\n",
       "  </tbody>\n",
       "</table>\n",
       "<p>1056 rows × 3 columns</p>\n",
       "</div>"
      ],
      "text/plain": [
       "                      intent  \\\n",
       "0                   greeting   \n",
       "1                   greeting   \n",
       "2                   greeting   \n",
       "3                   greeting   \n",
       "4                   greeting   \n",
       "...                      ...   \n",
       "1051  transportation_options   \n",
       "1052  transportation_options   \n",
       "1053  transportation_options   \n",
       "1054  transportation_options   \n",
       "1055  transportation_options   \n",
       "\n",
       "                                                   text  \\\n",
       "0                                                    Hi   \n",
       "1                                                 Hello   \n",
       "2                                                   Hey   \n",
       "3                                              Good day   \n",
       "4                                          How are you?   \n",
       "...                                                 ...   \n",
       "1051  What are the available options for transportat...   \n",
       "1052  Does the college provide transportation services?   \n",
       "1053  Are there public transportation options near t...   \n",
       "1054  Is it easy to get around the campus and surrou...   \n",
       "1055  Are there bike-friendly paths or bike-sharing ...   \n",
       "\n",
       "                                              responses  \n",
       "0     [Hello!, Good to see you!, Hi there, how can I...  \n",
       "1     [Hello!, Good to see you!, Hi there, how can I...  \n",
       "2     [Hello!, Good to see you!, Hi there, how can I...  \n",
       "3     [Hello!, Good to see you!, Hi there, how can I...  \n",
       "4     [Hello!, Good to see you!, Hi there, how can I...  \n",
       "...                                                 ...  \n",
       "1051  [The college may provide shuttle services for ...  \n",
       "1052  [The college may provide shuttle services for ...  \n",
       "1053  [The college may provide shuttle services for ...  \n",
       "1054  [The college may provide shuttle services for ...  \n",
       "1055  [The college may provide shuttle services for ...  \n",
       "\n",
       "[1056 rows x 3 columns]"
      ]
     },
     "execution_count": 5,
     "metadata": {},
     "output_type": "execute_result"
    }
   ],
   "source": [
    "dic = {\"intent\":[],\"text\":[], \"responses\":[]}\n",
    "for i in range (len(df)):\n",
    "    ptrns = df[df.index==i]['text'].values[0]\n",
    "    rspns = df[df.index==i]['responses'].values[0]\n",
    "    tag = df[df.index==i]['intent'].values[0]\n",
    "    for j in range(len(ptrns)):\n",
    "        dic['intent'].append(tag)\n",
    "        dic['text'].append(ptrns[j])\n",
    "        dic['responses'].append(rspns)\n",
    "df = pd.DataFrame.from_dict(dic)\n",
    "df"
   ]
  },
  {
   "cell_type": "code",
   "execution_count": 7,
   "id": "c7421664-6d1c-4b78-bb20-9a4ab544f72c",
   "metadata": {},
   "outputs": [
    {
     "data": {
      "text/plain": [
       "array(['greeting', 'farewell', 'creator', 'identity', 'communication',\n",
       "       'casual_greeting', 'good_morning', 'good_afternoon',\n",
       "       'good_evening', 'thank_you', 'sorry', 'hours', 'contact',\n",
       "       'courses', 'fees', 'location', 'hostel', 'events', 'admission',\n",
       "       'library', 'facilities', 'placement', 'school_choice', 'happiness',\n",
       "       'strengths', 'complaints', 'improvements', 'accessibility',\n",
       "       'academics_majors', 'academics_reputation', 'favorite_class',\n",
       "       'professors_teachers', 'professors_office_hours',\n",
       "       'professors_vs_TAs', 'first_choice_classes', 'class_format',\n",
       "       'reading_writing', 'collaborative_work', 'academic_advising',\n",
       "       'tutoring_programs', 'class_size', 'independent_study',\n",
       "       'professor_research', 'study_abroad', 'first_year_experience',\n",
       "       'typical_day', 'study_time', 'non_class_activities',\n",
       "       'weekend_activities', 'social_scene', 'hometown_activities',\n",
       "       'food', 'on_campus_housing', 'dorm_quality', 'popular_clubs',\n",
       "       'fraternities_sororities', 'favorite_place_on_campus',\n",
       "       'study_locations', 'campus_facilities', 'computer_labs',\n",
       "       'campus_wifi', 'campus_navigation', 'sports_popularity',\n",
       "       'school_spirit', 'fellow_students', 'friendly_students',\n",
       "       'student_body_unique', 'campus_diversity',\n",
       "       'international_students', 'interactions_among_students',\n",
       "       'student_cliques', 'internship_opportunities', 'career_services',\n",
       "       'mentorship_program', 'co-op_program', 'leadership_opportunities',\n",
       "       'service_learning', 'employer_recruitment', 'summer_jobs',\n",
       "       'notable_graduates', 'alumni_association', 'hands-on_experiences',\n",
       "       'special_features', 'college_pride', 'undergraduate_students',\n",
       "       'graduate_students', 'financial_stability', 'bond_rating',\n",
       "       'average_class_size_intro', 'average_class_size_upper_division',\n",
       "       'teaching_assistants', 'course_enrollment_ease',\n",
       "       'interaction_with_professors', 'typical_class_sizes_major',\n",
       "       'impacted_majors', 'guaranteed_major', 'major_admission_standards',\n",
       "       'declaring_major', 'time_spent_on_homework',\n",
       "       'writing_and_reading_expectations', 'double_major',\n",
       "       'academic_system', 'honors_college', 'honors_college_offering',\n",
       "       'honors_college_requirements', 'learning_community',\n",
       "       'senior_capstone_experience', 'academic_advisory_system',\n",
       "       'professor_as_advisor', 'study_abroad_percentage',\n",
       "       'study_abroad_intended_major',\n",
       "       'undergraduate_research_opportunities',\n",
       "       'undergraduate_research_participation',\n",
       "       'departments_with_research', 'academic_credit_transfer',\n",
       "       'four_year_graduation_rate', 'five_year_graduation_rate',\n",
       "       'six_year_graduation_rate', 'graduation_reasons_delay',\n",
       "       'requirements_to_graduate_4years', 'double_major_graduation_time',\n",
       "       'freshman_retention_rate', 'reasons_for_premature_leaving',\n",
       "       'academic_advice_services', 'writing_center', 'tutoring_services',\n",
       "       'orientation_program', 'learning_disability_services',\n",
       "       'disability_testing_requirements', 'career_services_access',\n",
       "       'alumni_network', 'career_services_for_alumni',\n",
       "       'internship_percentage', 'co_op_program', 'job_placement_rate',\n",
       "       'job_placement_rate_calculation',\n",
       "       'self_reported_job_placement_rate',\n",
       "       'graduate_school_admission_percentage',\n",
       "       'feeder_institutions_graduate_schools', 'housing_choices',\n",
       "       'campus_housing_percentage', 'dormitories_after_freshman_year',\n",
       "       'roommate_assignment', 'mental_health_services',\n",
       "       'meal_plan_options', 'sorority_fraternity_percentage',\n",
       "       'drug_alcohol_prevalence', 'freshmen_bring_car',\n",
       "       'financial_need_met_percentage',\n",
       "       'financial_need_met_freshman_year',\n",
       "       'financial_aid_grants_scholarships',\n",
       "       'average_financial_aid_package', 'financial_aid_loans_vs_grants',\n",
       "       'average_merit_award', 'merit_scholarship_requirements',\n",
       "       'financial_aid_renewable', 'financial_aid_after_four_years',\n",
       "       'financial_aid_percentage', 'average_loan_debt',\n",
       "       'average_federal_plus_loan_debt', 'work_study_opportunities',\n",
       "       'tuition_rate_increase', 'extra_scholarships_majors_talents',\n",
       "       'merit_scholarships_info', 'net_price_calculator_accuracy',\n",
       "       'net_price_calculator_update', 'athletic_scholarships',\n",
       "       'student_loan_default_rate', 'financial_literacy_training',\n",
       "       'college_choice_reasons', 'college_changes_suggestion',\n",
       "       'college_likes_most', 'college_likes_least', 'successful_students',\n",
       "       'students_not_fit_in', 'recommended_students',\n",
       "       'demonstrated_interest_admissions',\n",
       "       'test_optional_policy_exceptions', 'legacy_admissions',\n",
       "       'admissions_interview_role', 'enrollment_capped_majors',\n",
       "       'classes_professors_tas', 'theoretical_or_hands_on',\n",
       "       'switch_majors_within_university', 'major_requirements_breakdown',\n",
       "       'percentage_students_study_abroad',\n",
       "       'grad_school_application_success', 'career_planning_services',\n",
       "       'alumni_network_activity', 'career_services_alumni',\n",
       "       'graduation_rate_four_years', 'graduation_rate_five_years',\n",
       "       'graduation_rate_six_years', 'graduation_on_time',\n",
       "       'double_major_impact_graduation', 'freshmen_retention_rate',\n",
       "       'reasons_students_leave', 'academic_advising_system',\n",
       "       'percentage_students_studies_abroad',\n",
       "       'participating_students_undergrad_research',\n",
       "       'departments_offer_undergrad_research',\n",
       "       'academic_credits_transfer', 'graduation_in_four_years',\n",
       "       'semester_abroad', 'freshmen_mentoring_program',\n",
       "       'campus_safety_security', 'student_organizations',\n",
       "       'experiential_learning_internships',\n",
       "       'entrepreneurship_resources_clubs', 'sustainability_initiatives',\n",
       "       'performing_arts_music_facilities', 'class_sizes',\n",
       "       'study_abroad_programs', 'financial_aid_international_students',\n",
       "       'student_to_faculty_ratio', 'recreational_facilities',\n",
       "       'admission_requirements_international_students',\n",
       "       'professor_accessibility', 'transportation_options'], dtype=object)"
      ]
     },
     "execution_count": 7,
     "metadata": {},
     "output_type": "execute_result"
    }
   ],
   "source": [
    "df['intent'].unique()"
   ]
  },
  {
   "cell_type": "code",
   "execution_count": 9,
   "id": "371e1ba7-e35b-4434-a684-96a37145b20b",
   "metadata": {},
   "outputs": [
    {
     "data": {
      "text/plain": [
       "{'num_words': None,\n",
       " 'filters': '!\"#$%&()*+,-./:;<=>?@[\\\\]^_`{|}~\\t\\n',\n",
       " 'lower': True,\n",
       " 'split': ' ',\n",
       " 'char_level': False,\n",
       " 'oov_token': None,\n",
       " 'document_count': 1056,\n",
       " 'word_counts': '{\"hi\": 1, \"hello\": 1, \"hey\": 1, \"good\": 8, \"day\": 3, \"how\": 207, \"are\": 333, \"you\": 90, \"goodbye\": 1, \"bye\": 1, \"see\": 2, \"later\": 3, \"talk\": 1, \"to\": 202, \"who\": 21, \"created\": 1, \"is\": 217, \"your\": 70, \"developer\": 1, \"made\": 3, \"what\": 275, \"name\": 1, \"should\": 5, \"i\": 22, \"call\": 1, \"introduce\": 1, \"yourself\": 1, \"can\": 110, \"communicate\": 1, \"with\": 48, \"the\": 373, \"university\": 5, \"or\": 76, \"contact\": 3, \"my\": 20, \"ward\": 1, \"communication\": 1, \"channels\": 1, \"for\": 188, \"students\": 301, \"and\": 52, \"parents\": 7, \"what\\'s\": 12, \"up\": 1, \"doing\": 1, \"morning\": 2, \"afternoon\": 2, \"evening\": 2, \"thank\": 1, \"thanks\": 1, \"sorry\": 1, \"apologies\": 1, \"college\": 185, \"timings\": 2, \"when\": 10, \"open\": 1, \"hours\": 6, \"of\": 134, \"operation\": 1, \"telephone\": 1, \"number\": 8, \"get\": 25, \"courses\": 18, \"offered\": 7, \"in\": 147, \"tell\": 20, \"me\": 21, \"about\": 30, \"available\": 69, \"branches\": 1, \"much\": 16, \"fee\": 2, \"fees\": 3, \"hostel\": 4, \"where\": 7, \"located\": 3, \"address\": 7, \"reach\": 2, \"does\": 114, \"provide\": 16, \"facilities\": 11, \"events\": 12, \"organized\": 1, \"there\": 210, \"any\": 43, \"upcoming\": 2, \"admission\": 8, \"process\": 16, \"take\": 12, \"criteria\": 3, \"have\": 45, \"a\": 149, \"library\": 3, \"do\": 123, \"sports\": 7, \"complex\": 1, \"placements\": 2, \"placement\": 16, \"record\": 1, \"why\": 8, \"did\": 4, \"choose\": 12, \"this\": 16, \"school\": 25, \"decide\": 2, \"attend\": 6, \"happy\": 1, \"here\": 3, \"enjoy\": 4, \"being\": 2, \"at\": 27, \"school\\'s\": 6, \"strengths\": 2, \"makes\": 5, \"stand\": 2, \"out\": 5, \"1\": 1, \"complaint\": 1, \"think\": 5, \"needs\": 1, \"improvement\": 1, \"else\": 1, \"could\": 5, \"be\": 12, \"improved\": 2, \"which\": 12, \"areas\": 5, \"improve\": 2, \"accessible\": 6, \"administrators\": 1, \"registrars\": 1, \"financial\": 37, \"aid\": 30, \"officers\": 1, \"etc\": 3, \"easily\": 3, \"staff\": 1, \"needed\": 5, \"majors\": 34, \"popular\": 12, \"fields\": 2, \"study\": 38, \"high\": 20, \"enrollment\": 7, \"most\": 13, \"sought\": 1, \"after\": 12, \"departments\": 8, \"programs\": 47, \"best\": 2, \"reputations\": 1, \"academic\": 54, \"well\": 3, \"regarded\": 1, \"standout\": 2, \"favorite\": 3, \"class\": 23, \"subject\": 1, \"professors\": 18, \"teachers\": 1, \"quality\": 3, \"teaching\": 10, \"experienced\": 2, \"faculty\": 6, \"hold\": 2, \"office\": 9, \"will\": 14, \"they\": 6, \"meet\": 10, \"outside\": 8, \"one\": 5, \"on\": 78, \"meetings\": 2, \"classes\": 25, \"taught\": 3, \"by\": 7, \"assistants\": 7, \"primarily\": 3, \"teaches\": 1, \"lot\": 6, \"tas\": 1, \"were\": 2, \"able\": 2, \"first\": 9, \"choice\": 2, \"generally\": 2, \"their\": 41, \"preferred\": 2, \"likely\": 1, \"into\": 7, \"desired\": 1, \"lecture\": 2, \"based\": 11, \"discussion\": 1, \"structured\": 1, \"typical\": 9, \"format\": 1, \"reading\": 5, \"writing\": 15, \"required\": 8, \"assignments\": 2, \"involving\": 1, \"heavy\": 1, \"emphasis\": 2, \"written\": 1, \"work\": 13, \"often\": 5, \"collaborative\": 1, \"group\": 2, \"presentations\": 1, \"projects\": 11, \"an\": 25, \"teamwork\": 1, \"satisfied\": 1, \"advising\": 16, \"program\": 18, \"helpful\": 2, \"advisors\": 9, \"guidance\": 5, \"course\": 10, \"selection\": 5, \"use\": 7, \"campus\": 54, \"tutoring\": 7, \"centers\": 2, \"resources\": 27, \"support\": 38, \"assistance\": 3, \"big\": 1, \"sizes\": 7, \"large\": 7, \"small\": 7, \"major\": 48, \"require\": 3, \"independent\": 2, \"capstone\": 6, \"project\": 5, \"opportunities\": 50, \"research\": 64, \"culminating\": 1, \"engage\": 5, \"involved\": 11, \"it\": 25, \"abroad\": 36, \"spend\": 7, \"semester\": 8, \"like\": 16, \"year\": 46, \"student\": 47, \"describe\": 4, \"experience\": 8, \"expect\": 7, \"as\": 17, \"freshman\": 8, \"life\": 9, \"daily\": 1, \"routine\": 1, \"time\": 24, \"studying\": 11, \"per\": 2, \"week\": 3, \"average\": 13, \"you\\'re\": 1, \"not\": 2, \"free\": 3, \"activities\": 6, \"weekends\": 2, \"weekend\": 1, \"social\": 2, \"scene\": 1, \"would\": 6, \"new\": 3, \"people\": 1, \"kinds\": 3, \"things\": 1, \"hometown\": 1, \"recreational\": 3, \"local\": 1, \"area\": 1, \"some\": 10, \"attractions\": 1, \"near\": 2, \"how\\'s\": 1, \"food\": 2, \"dining\": 2, \"options\": 17, \"live\": 6, \"housing\": 12, \"percentage\": 32, \"dorms\": 3, \"dormitories\": 2, \"comfortable\": 1, \"clubs\": 5, \"organizations\": 11, \"active\": 5, \"lots\": 1, \"belong\": 2, \"fraternities\": 1, \"sororities\": 1, \"many\": 40, \"greek\": 5, \"place\": 2, \"location\": 1, \"hang\": 1, \"spots\": 1, \"quiet\": 1, \"places\": 1, \"science\": 1, \"labs\": 4, \"libraries\": 1, \"theaters\": 1, \"gyms\": 1, \"maintained\": 1, \"modern\": 1, \"enough\": 1, \"computer\": 3, \"shortage\": 1, \"lab\": 1, \"wifi\": 3, \"reliable\": 1, \"connectivity\": 1, \"issues\": 5, \"easy\": 7, \"around\": 2, \"buildings\": 1, \"navigate\": 1, \"layout\": 1, \"friendly\": 4, \"participate\": 18, \"athletic\": 5, \"culture\": 2, \"spirit\": 1, \"show\": 2, \"strong\": 5, \"sense\": 3, \"pride\": 1, \"spirited\": 1, \"traditions\": 1, \"fellow\": 1, \"community\": 7, \"among\": 6, \"make\": 4, \"friends\": 1, \"interact\": 3, \"each\": 4, \"other\": 6, \"body\": 3, \"unique\": 3, \"anything\": 5, \"special\": 5, \"population\": 4, \"sets\": 2, \"apart\": 2, \"diversity\": 5, \"from\": 16, \"different\": 12, \"cultural\": 2, \"backgrounds\": 1, \"promote\": 2, \"inclusion\": 2, \"countries\": 2, \"significant\": 5, \"international\": 17, \"diverse\": 4, \"representation\": 1, \"races\": 1, \"interaction\": 3, \"socialization\": 1, \"groups\": 2, \"embrace\": 1, \"cross\": 1, \"interactions\": 2, \"cliquish\": 1, \"presence\": 1, \"cliques\": 1, \"segregate\": 1, \"exclusive\": 1, \"internships\": 17, \"find\": 12, \"them\": 1, \"internship\": 2, \"finding\": 4, \"career\": 28, \"services\": 28, \"center\": 10, \"effective\": 1, \"college\\'s\": 12, \"mentor\": 1, \"mentorship\": 4, \"connect\": 5, \"mentors\": 2, \"co\": 10, \"op\": 10, \"cooperative\": 4, \"education\": 5, \"experiences\": 7, \"exist\": 2, \"leadership\": 5, \"skills\": 3, \"positions\": 2, \"develop\": 1, \"service\": 5, \"learning\": 15, \"employers\": 2, \"recruit\": 1, \"fairs\": 3, \"job\": 19, \"potential\": 2, \"summer\": 4, \"jobs\": 6, \"through\": 6, \"employment\": 4, \"assist\": 5, \"notable\": 2, \"graduates\": 11, \"mention\": 1, \"famous\": 1, \"alumni\": 24, \"successful\": 4, \"individuals\": 1, \"attended\": 1, \"visible\": 1, \"association\": 1, \"network\": 5, \"hands\": 3, \"practical\": 5, \"had\": 2, \"classroom\": 1, \"emphasize\": 8, \"experiential\": 4, \"others\": 2, \"offer\": 26, \"distinctive\": 1, \"features\": 1, \"selling\": 1, \"points\": 1, \"proud\": 2, \"accomplishments\": 1, \"achievements\": 4, \"known\": 3, \"showcase\": 4, \"its\": 4, \"undergraduate\": 28, \"size\": 7, \"total\": 2, \"graduate\": 39, \"demographic\": 1, \"breakdown\": 3, \"campus\\'s\": 1, \"commitment\": 1, \"related\": 5, \"initiatives\": 3, \"financially\": 2, \"sound\": 1, \"stable\": 1, \"face\": 6, \"challenges\": 8, \"endowment\": 1, \"manage\": 3, \"bond\": 3, \"rating\": 4, \"affect\": 2, \"standing\": 2, \"credit\": 7, \"information\": 4, \"ratings\": 1, \"secure\": 3, \"funds\": 1, \"introductory\": 7, \"typically\": 8, \"individual\": 3, \"attention\": 3, \"upper\": 5, \"division\": 4, \"level\": 2, \"more\": 7, \"less\": 2, \"intimate\": 2, \"than\": 5, \"used\": 1, \"lead\": 8, \"discussions\": 2, \"role\": 6, \"play\": 7, \"difficult\": 2, \"enroll\": 2, \"need\": 12, \"registration\": 4, \"straightforward\": 1, \"encounter\": 1, \"during\": 5, \"ensure\": 7, \"if\": 15, \"undergrad\": 1, \"tenured\": 2, \"limited\": 3, \"halls\": 1, \"regular\": 2, \"chance\": 1, \"collaborate\": 1, \"intended\": 6, \"specific\": 35, \"general\": 1, \"involve\": 1, \"close\": 1, \"discipline\": 1, \"impacted\": 2, \"oversubscribed\": 1, \"limitations\": 2, \"certain\": 9, \"restricted\": 1, \"competitive\": 3, \"am\": 1, \"guaranteed\": 1, \"that\": 20, \"i\\\\u00e2\\\\u20ac\\\\u2122m\": 1, \"interested\": 2, \"direct\": 1, \"handle\": 2, \"declaring\": 3, \"possible\": 6, \"change\": 6, \"switching\": 2, \"standards\": 2, \"higher\": 3, \"requirements\": 21, \"getting\": 1, \"availability\": 1, \"gpa\": 3, \"prerequisites\": 2, \"declare\": 2, \"timeline\": 1, \"deadline\": 1, \"choosing\": 2, \"immediately\": 1, \"flexibility\": 2, \"homework\": 1, \"expected\": 2, \"workload\": 1, \"complete\": 12, \"dedicate\": 1, \"intensive\": 1, \"creative\": 1, \"double\": 16, \"pursue\": 4, \"two\": 1, \"simultaneously\": 1, \"majoring\": 5, \"restrictions\": 3, \"trimester\": 1, \"quarter\": 1, \"system\": 8, \"calendar\": 1, \"semesters\": 2, \"sessions\": 1, \"length\": 1, \"honors\": 17, \"achieving\": 2, \"benefits\": 14, \"qualify\": 4, \"additional\": 5, \"advantages\": 1, \"part\": 4, \"priority\": 3, \"enhance\": 2, \"test\": 7, \"scores\": 4, \"join\": 4, \"eligibility\": 1, \"application\": 2, \"maintain\": 2, \"designed\": 1, \"help\": 12, \"freshmen\": 26, \"transition\": 7, \"peer\": 3, \"smooth\": 1, \"incoming\": 4, \"seniors\": 2, \"senior\": 2, \"contribute\": 19, \"students\\'\": 4, \"all\": 14, \"kind\": 4, \"receive\": 14, \"advisory\": 1, \"assigned\": 3, \"regularly\": 1, \"professor\": 19, \"advisor\": 19, \"member\": 2, \"request\": 1, \"having\": 5, \"studies\": 4, \"types\": 8, \"tend\": 1, \"benefit\": 1, \"easier\": 1, \"undergraduates\": 5, \"common\": 16, \"highest\": 1, \"participation\": 1, \"rates\": 5, \"prioritize\": 2, \"want\": 3, \"transfer\": 13, \"know\": 3, \"credits\": 10, \"guidelines\": 3, \"evaluated\": 2, \"maximum\": 1, \"transferred\": 1, \"four\": 39, \"graduation\": 40, \"rate\": 51, \"within\": 12, \"years\": 34, \"degree\": 9, \"graduating\": 2, \"five\": 8, \"significantly\": 3, \"longer\": 6, \"six\": 8, \"main\": 1, \"reasons\": 5, \"don\\'t\": 3, \"factors\": 20, \"delays\": 2, \"may\": 4, \"experiencing\": 2, \"plan\": 5, \"without\": 2, \"overloading\": 1, \"recommended\": 1, \"sequences\": 1, \"timely\": 3, \"strategies\": 5, \"while\": 1, \"examples\": 2, \"graduated\": 1, \"return\": 4, \"sophomore\": 4, \"retention\": 13, \"continue\": 4, \"second\": 1, \"leave\": 4, \"prematurely\": 4, \"leaving\": 9, \"attrition\": 4, \"considering\": 5, \"efforts\": 3, \"advice\": 7, \"designated\": 1, \"access\": 10, \"throughout\": 1, \"essays\": 1, \"papers\": 1, \"schedule\": 2, \"appointments\": 1, \"subjects\": 1, \"orientation\": 8, \"include\": 1, \"mandatory\": 1, \"families\": 1, \"disability\": 8, \"accommodations\": 3, \"disabilities\": 1, \"separate\": 3, \"cost\": 2, \"using\": 3, \"recent\": 4, \"must\": 1, \"student\\\\u00e2\\\\u20ac\\\\u2122s\": 3, \"testing\": 3, \"documentation\": 2, \"timeframe\": 2, \"submitting\": 2, \"past\": 1, \"still\": 2, \"resume\": 2, \"searches\": 1, \"networking\": 3, \"point\": 1, \"journey\": 1, \"start\": 1, \"frequently\": 1, \"workshops\": 2, \"stay\": 1, \"connected\": 4, \"current\": 5, \"advancement\": 1, \"goals\": 1, \"focus\": 1, \"facilitate\": 1, \"participating\": 5, \"earn\": 1, \"track\": 1, \"calculated\": 1, \"graduates\\'\": 1, \"temporary\": 1, \"counted\": 1, \"verify\": 1, \"data\": 4, \"figures\": 1, \"self\": 2, \"reported\": 2, \"voluntarily\": 1, \"collect\": 1, \"audited\": 1, \"verified\": 1, \"externally\": 1, \"discrepancies\": 1, \"go\": 2, \"professional\": 3, \"schools\": 4, \"advanced\": 4, \"degrees\": 4, \"proportion\": 2, \"applying\": 3, \"feeder\": 1, \"institutions\": 1, \"commonly\": 2, \"universities\": 2, \"partnerships\": 1, \"joint\": 1, \"choices\": 1, \"single\": 1, \"rooms\": 2, \"shared\": 1, \"specialized\": 1, \"upperclassmen\": 2, \"guarantee\": 1, \"option\": 2, \"sophomores\": 1, \"juniors\": 1, \"living\": 1, \"same\": 1, \"roommate\": 2, \"subsequent\": 2, \"roommates\": 4, \"matching\": 1, \"own\": 1, \"considered\": 3, \"assigning\": 1, \"survey\": 1, \"match\": 1, \"compatibility\": 1, \"mental\": 3, \"health\": 3, \"counseling\": 3, \"stress\": 1, \"anxiety\": 1, \"meal\": 4, \"plans\": 3, \"dietary\": 1, \"variety\": 1, \"sorority\": 2, \"fraternity\": 2, \"prevalent\": 1, \"drugs\": 1, \"alcohol\": 2, \"substance\": 3, \"issue\": 1, \"drug\": 1, \"struggling\": 1, \"bring\": 1, \"car\": 4, \"parking\": 2, \"rules\": 1, \"usage\": 1, \"full\": 2, \"demonstrated\": 4, \"determine\": 2, \"packages\": 2, \"grants\": 8, \"scholarships\": 33, \"renewable\": 4, \"shrink\": 1, \"package\": 5, \"decrease\": 1, \"changes\": 3, \"possibility\": 1, \"receiving\": 1, \"happens\": 4, \"circumstances\": 1, \"merit\": 20, \"amount\": 4, \"automatically\": 1, \"components\": 1, \"loans\": 7, \"versus\": 1, \"comprised\": 1, \"form\": 1, \"repayment\": 4, \"award\": 2, \"keep\": 1, \"awards\": 3, \"multiple\": 1, \"scholarship\": 2, \"score\": 1, \"submit\": 3, \"applications\": 5, \"received\": 1, \"renew\": 1, \"renewal\": 1, \"lose\": 1, \"renewed\": 1, \"beyond\": 1, \"takes\": 1, \"gap\": 1, \"awarded\": 1, \"loan\": 10, \"debt\": 5, \"accumulate\": 1, \"manageable\": 1, \"federal\": 3, \"plus\": 3, \"borrowed\": 1, \"incur\": 1, \"alternative\": 1, \"finance\": 1, \"costs\": 1, \"apply\": 5, \"hourly\": 1, \"wage\": 1, \"pace\": 1, \"has\": 2, \"annual\": 1, \"tuition\": 6, \"risen\": 1, \"increase\": 2, \"steady\": 1, \"over\": 2, \"freeze\": 1, \"extra\": 1, \"talents\": 3, \"disciplines\": 3, \"such\": 2, \"athletics\": 1, \"arts\": 3, \"learn\": 1, \"centralized\": 1, \"list\": 1, \"exceptional\": 1, \"records\": 1, \"net\": 10, \"price\": 10, \"calculator\": 10, \"accurate\": 2, \"estimate\": 1, \"rely\": 1, \"results\": 1, \"consider\": 4, \"last\": 1, \"update\": 1, \"reviewed\": 1, \"updated\": 1, \"planned\": 1, \"institution\": 2, \"give\": 1, \"athletes\": 2, \"eligible\": 1, \"default\": 3, \"concern\": 1, \"actions\": 1, \"prevent\": 1, \"defaults\": 1, \"literacy\": 3, \"training\": 1, \"educate\": 1, \"managing\": 1, \"finances\": 1, \"informed\": 1, \"decisions\": 3, \"influenced\": 1, \"attracted\": 1, \"feel\": 3, \"visited\": 1, \"wish\": 2, \"was\": 1, \"improvements\": 1, \"you\\'d\": 1, \"aspects\": 4, \"enhanced\": 1, \"lacking\": 1, \"happiest\": 1, \"attending\": 1, \"highlights\": 1, \"least\": 1, \"drawbacks\": 2, \"you\\'ve\": 1, \"frustrating\": 1, \"disappointing\": 1, \"better\": 1, \"succeed\": 1, \"qualities\": 2, \"type\": 5, \"thrives\": 1, \"characteristics\": 1, \"success\": 2, \"fit\": 4, \"might\": 1, \"obstacles\": 1, \"adjusting\": 1, \"inclusivity\": 1, \"belonging\": 1, \"teenagers\": 1, \"recommend\": 1, \"thrive\": 1, \"interests\": 2, \"interest\": 5, \"important\": 2, \"demonstrating\": 1, \"admissions\": 10, \"prospective\": 1, \"exceptions\": 1, \"optional\": 2, \"policy\": 3, \"applicants\": 3, \"applicable\": 1, \"legacy\": 5, \"so\": 1, \"children\": 1, \"given\": 1, \"preference\": 1, \"status\": 2, \"taken\": 2, \"account\": 1, \"factor\": 1, \"decision\": 1, \"making\": 1, \"interviews\": 5, \"evaluation\": 3, \"purpose\": 1, \"conducts\": 1, \"capped\": 1, \"capacity\": 2, \"limit\": 1, \"accepted\": 2, \"waitlists\": 1, \"gets\": 1, \"\\\\u00e2\\\\u20ac\\\\u201c\": 1, \"grade\": 1, \"theoretical\": 1, \"nature\": 1, \"style\": 1, \"encouraged\": 1, \"real\": 1, \"world\": 1, \"knowledge\": 1, \"switch\": 1, \"discover\": 1, \"usually\": 1, \"consist\": 1, \"core\": 1, \"electives\": 1, \"successfully\": 1, \"grad\": 1, \"prepare\": 1, \"planning\": 1, \"development\": 2, \"interview\": 1, \"preparation\": 1, \"provided\": 1, \"frame\": 1, \"outcomes\": 1, \"companies\": 1, \"completion\": 1, \"schedules\": 1, \"pursuing\": 2, \"delay\": 1, \"departure\": 3, \"seek\": 4, \"exploration\": 3, \"approach\": 5, \"across\": 3, \"engaged\": 3, \"symposiums\": 3, \"gain\": 4, \"field\": 2, \"transferring\": 4, \"another\": 2, \"previous\": 2, \"coursework\": 2, \"count\": 2, \"towards\": 2, \"mentoring\": 1, \"adapt\": 1, \"safety\": 2, \"measures\": 1, \"security\": 2, \"safe\": 1, \"extracurricular\": 2, \"involvement\": 1, \"entrepreneurship\": 2, \"aspiring\": 1, \"entrepreneurs\": 1, \"entrepreneurial\": 1, \"ambitions\": 1, \"sustainability\": 2, \"green\": 2, \"committed\": 1, \"environmental\": 1, \"steps\": 1, \"become\": 1, \"eco\": 1, \"performing\": 2, \"music\": 1, \"practice\": 1, \"spaces\": 1, \"musicians\": 1, \"performance\": 1, \"venues\": 1, \"difference\": 1, \"between\": 1, \"vary\": 1, \"sized\": 1, \"exchange\": 1, \"non\": 2, \"us\": 2, \"citizens\": 1, \"ratio\": 1, \"run\": 1, \"roles\": 1, \"fitness\": 2, \"gym\": 1, \"intramural\": 1, \"standardized\": 1, \"tests\": 1, \"english\": 1, \"language\": 1, \"proficiency\": 1, \"requirement\": 1, \"documents\": 1, \"encourage\": 2, \"curriculum\": 1, \"questions\": 1, \"clarification\": 1, \"responsiveness\": 1, \"emails\": 1, \"transportation\": 4, \"public\": 2, \"surrounding\": 1, \"mode\": 1, \"bike\": 2, \"paths\": 1, \"sharing\": 1}',\n",
       " 'word_docs': '{\"hi\": 1, \"hello\": 1, \"hey\": 1, \"good\": 8, \"day\": 3, \"you\": 89, \"how\": 204, \"are\": 333, \"goodbye\": 1, \"bye\": 1, \"see\": 2, \"later\": 3, \"to\": 194, \"talk\": 1, \"created\": 1, \"who\": 21, \"developer\": 1, \"your\": 68, \"is\": 217, \"made\": 3, \"name\": 1, \"what\": 275, \"call\": 1, \"should\": 5, \"i\": 22, \"yourself\": 1, \"introduce\": 1, \"contact\": 3, \"ward\": 1, \"university\": 5, \"the\": 348, \"with\": 48, \"or\": 76, \"can\": 110, \"my\": 18, \"communicate\": 1, \"channels\": 1, \"students\": 301, \"communication\": 1, \"for\": 188, \"parents\": 7, \"and\": 52, \"what\\'s\": 12, \"up\": 1, \"doing\": 1, \"morning\": 2, \"afternoon\": 2, \"evening\": 2, \"thank\": 1, \"thanks\": 1, \"sorry\": 1, \"apologies\": 1, \"college\": 182, \"timings\": 2, \"open\": 1, \"when\": 10, \"operation\": 1, \"hours\": 6, \"of\": 129, \"telephone\": 1, \"number\": 8, \"get\": 25, \"in\": 146, \"offered\": 7, \"courses\": 18, \"available\": 69, \"tell\": 20, \"about\": 30, \"me\": 21, \"branches\": 1, \"fee\": 2, \"much\": 16, \"fees\": 3, \"hostel\": 4, \"where\": 7, \"located\": 3, \"address\": 7, \"reach\": 2, \"facilities\": 11, \"does\": 114, \"provide\": 16, \"organized\": 1, \"events\": 12, \"there\": 210, \"upcoming\": 2, \"any\": 43, \"admission\": 8, \"process\": 16, \"take\": 12, \"criteria\": 3, \"a\": 145, \"library\": 3, \"have\": 45, \"do\": 121, \"sports\": 7, \"complex\": 1, \"placements\": 2, \"placement\": 16, \"record\": 1, \"did\": 4, \"this\": 16, \"choose\": 12, \"school\": 25, \"why\": 8, \"decide\": 2, \"attend\": 6, \"here\": 3, \"happy\": 1, \"being\": 2, \"enjoy\": 4, \"at\": 27, \"strengths\": 2, \"school\\'s\": 6, \"out\": 5, \"makes\": 5, \"stand\": 2, \"1\": 1, \"complaint\": 1, \"think\": 5, \"improvement\": 1, \"needs\": 1, \"be\": 12, \"else\": 1, \"improved\": 2, \"could\": 5, \"improve\": 2, \"which\": 12, \"areas\": 5, \"administrators\": 1, \"etc\": 3, \"officers\": 1, \"aid\": 30, \"accessible\": 6, \"registrars\": 1, \"financial\": 37, \"needed\": 5, \"staff\": 1, \"easily\": 3, \"majors\": 34, \"popular\": 12, \"enrollment\": 7, \"high\": 20, \"fields\": 2, \"study\": 38, \"sought\": 1, \"after\": 12, \"most\": 13, \"departments\": 8, \"best\": 2, \"reputations\": 1, \"programs\": 47, \"academic\": 53, \"well\": 3, \"regarded\": 1, \"standout\": 2, \"favorite\": 3, \"class\": 23, \"subject\": 1, \"teachers\": 1, \"professors\": 18, \"teaching\": 9, \"quality\": 3, \"experienced\": 2, \"faculty\": 6, \"meet\": 10, \"will\": 14, \"hold\": 2, \"they\": 6, \"office\": 9, \"outside\": 8, \"one\": 3, \"meetings\": 2, \"on\": 78, \"by\": 7, \"assistants\": 7, \"taught\": 3, \"classes\": 24, \"primarily\": 3, \"teaches\": 1, \"tas\": 1, \"lot\": 6, \"choice\": 2, \"first\": 9, \"able\": 2, \"were\": 2, \"preferred\": 2, \"generally\": 2, \"their\": 41, \"likely\": 1, \"desired\": 1, \"into\": 7, \"lecture\": 2, \"discussion\": 1, \"based\": 9, \"structured\": 1, \"typical\": 9, \"format\": 1, \"required\": 8, \"reading\": 5, \"writing\": 14, \"assignments\": 2, \"involving\": 1, \"work\": 13, \"heavy\": 1, \"written\": 1, \"emphasis\": 2, \"presentations\": 1, \"often\": 5, \"group\": 2, \"collaborative\": 1, \"projects\": 11, \"an\": 25, \"teamwork\": 1, \"advising\": 16, \"satisfied\": 1, \"helpful\": 2, \"program\": 18, \"advisors\": 9, \"guidance\": 5, \"course\": 10, \"selection\": 5, \"centers\": 2, \"campus\": 54, \"tutoring\": 7, \"use\": 7, \"resources\": 27, \"support\": 38, \"assistance\": 3, \"big\": 1, \"small\": 7, \"sizes\": 7, \"large\": 7, \"require\": 3, \"independent\": 2, \"project\": 5, \"major\": 48, \"capstone\": 6, \"opportunities\": 50, \"research\": 61, \"culminating\": 1, \"engage\": 5, \"involved\": 11, \"abroad\": 36, \"it\": 25, \"spend\": 7, \"semester\": 8, \"year\": 42, \"student\": 47, \"like\": 16, \"describe\": 4, \"experience\": 8, \"expect\": 7, \"as\": 17, \"freshman\": 8, \"life\": 9, \"routine\": 1, \"daily\": 1, \"studying\": 11, \"week\": 3, \"per\": 2, \"time\": 24, \"average\": 13, \"you\\'re\": 1, \"not\": 2, \"free\": 3, \"activities\": 6, \"weekends\": 2, \"weekend\": 1, \"social\": 2, \"scene\": 1, \"would\": 6, \"people\": 1, \"new\": 3, \"hometown\": 1, \"kinds\": 3, \"things\": 1, \"area\": 1, \"local\": 1, \"recreational\": 3, \"near\": 2, \"attractions\": 1, \"some\": 10, \"how\\'s\": 1, \"food\": 2, \"dining\": 2, \"options\": 17, \"live\": 6, \"housing\": 12, \"dorms\": 3, \"percentage\": 32, \"dormitories\": 2, \"comfortable\": 1, \"clubs\": 5, \"organizations\": 11, \"active\": 5, \"belong\": 2, \"lots\": 1, \"fraternities\": 1, \"sororities\": 1, \"greek\": 5, \"many\": 40, \"place\": 2, \"location\": 1, \"hang\": 1, \"spots\": 1, \"quiet\": 1, \"places\": 1, \"libraries\": 1, \"gyms\": 1, \"labs\": 4, \"science\": 1, \"theaters\": 1, \"maintained\": 1, \"modern\": 1, \"enough\": 1, \"computer\": 3, \"lab\": 1, \"shortage\": 1, \"wifi\": 3, \"reliable\": 1, \"issues\": 5, \"connectivity\": 1, \"around\": 2, \"easy\": 7, \"buildings\": 1, \"navigate\": 1, \"friendly\": 4, \"layout\": 1, \"participate\": 18, \"athletic\": 5, \"culture\": 2, \"spirit\": 1, \"sense\": 3, \"show\": 2, \"strong\": 5, \"pride\": 1, \"traditions\": 1, \"spirited\": 1, \"fellow\": 1, \"among\": 6, \"community\": 7, \"friends\": 1, \"make\": 4, \"interact\": 3, \"each\": 4, \"other\": 6, \"unique\": 3, \"body\": 3, \"anything\": 5, \"special\": 5, \"population\": 4, \"sets\": 2, \"apart\": 2, \"diversity\": 5, \"different\": 11, \"cultural\": 2, \"from\": 16, \"backgrounds\": 1, \"promote\": 2, \"inclusion\": 2, \"countries\": 2, \"international\": 17, \"significant\": 5, \"representation\": 1, \"diverse\": 4, \"races\": 1, \"socialization\": 1, \"interaction\": 3, \"groups\": 2, \"cross\": 1, \"interactions\": 2, \"embrace\": 1, \"cliquish\": 1, \"cliques\": 1, \"presence\": 1, \"exclusive\": 1, \"segregate\": 1, \"find\": 12, \"them\": 1, \"internships\": 17, \"internship\": 2, \"finding\": 4, \"career\": 28, \"services\": 28, \"center\": 10, \"college\\'s\": 12, \"effective\": 1, \"mentor\": 1, \"mentorship\": 4, \"mentors\": 2, \"connect\": 5, \"co\": 10, \"op\": 10, \"cooperative\": 4, \"education\": 5, \"experiences\": 7, \"exist\": 2, \"skills\": 3, \"leadership\": 5, \"positions\": 2, \"develop\": 1, \"service\": 5, \"learning\": 14, \"employers\": 2, \"recruit\": 1, \"fairs\": 2, \"job\": 18, \"potential\": 2, \"summer\": 4, \"jobs\": 6, \"through\": 6, \"employment\": 4, \"assist\": 5, \"graduates\": 11, \"notable\": 2, \"alumni\": 24, \"mention\": 1, \"famous\": 1, \"individuals\": 1, \"successful\": 4, \"attended\": 1, \"visible\": 1, \"association\": 1, \"network\": 5, \"practical\": 5, \"classroom\": 1, \"hands\": 3, \"had\": 2, \"experiential\": 4, \"emphasize\": 8, \"others\": 2, \"offer\": 26, \"features\": 1, \"distinctive\": 1, \"points\": 1, \"selling\": 1, \"proud\": 2, \"accomplishments\": 1, \"achievements\": 4, \"known\": 3, \"its\": 4, \"showcase\": 4, \"undergraduate\": 28, \"size\": 7, \"total\": 2, \"graduate\": 39, \"breakdown\": 3, \"demographic\": 1, \"campus\\'s\": 1, \"commitment\": 1, \"related\": 5, \"initiatives\": 3, \"sound\": 1, \"financially\": 2, \"stable\": 1, \"challenges\": 8, \"face\": 6, \"endowment\": 1, \"manage\": 3, \"bond\": 3, \"rating\": 4, \"standing\": 2, \"affect\": 2, \"credit\": 7, \"information\": 4, \"ratings\": 1, \"funds\": 1, \"secure\": 3, \"introductory\": 7, \"typically\": 8, \"attention\": 3, \"individual\": 3, \"upper\": 5, \"division\": 4, \"level\": 2, \"than\": 5, \"intimate\": 2, \"less\": 2, \"more\": 7, \"used\": 1, \"lead\": 8, \"discussions\": 2, \"play\": 7, \"role\": 6, \"difficult\": 2, \"enroll\": 2, \"need\": 12, \"straightforward\": 1, \"registration\": 4, \"encounter\": 1, \"during\": 5, \"ensure\": 7, \"if\": 15, \"tenured\": 2, \"undergrad\": 1, \"limited\": 3, \"halls\": 1, \"regular\": 2, \"chance\": 1, \"collaborate\": 1, \"intended\": 6, \"general\": 1, \"specific\": 35, \"close\": 1, \"involve\": 1, \"oversubscribed\": 1, \"impacted\": 2, \"discipline\": 1, \"limitations\": 2, \"certain\": 9, \"restricted\": 1, \"competitive\": 3, \"am\": 1, \"guaranteed\": 1, \"interested\": 2, \"that\": 20, \"i\\\\u00e2\\\\u20ac\\\\u2122m\": 1, \"direct\": 1, \"declaring\": 3, \"handle\": 2, \"possible\": 6, \"change\": 6, \"switching\": 2, \"standards\": 2, \"higher\": 3, \"requirements\": 21, \"getting\": 1, \"availability\": 1, \"gpa\": 3, \"prerequisites\": 2, \"declare\": 2, \"timeline\": 1, \"deadline\": 1, \"choosing\": 2, \"immediately\": 1, \"flexibility\": 2, \"homework\": 1, \"workload\": 1, \"expected\": 2, \"complete\": 12, \"dedicate\": 1, \"intensive\": 1, \"creative\": 1, \"double\": 16, \"two\": 1, \"pursue\": 4, \"simultaneously\": 1, \"majoring\": 5, \"restrictions\": 3, \"system\": 8, \"quarter\": 1, \"trimester\": 1, \"calendar\": 1, \"semesters\": 2, \"sessions\": 1, \"length\": 1, \"honors\": 17, \"achieving\": 2, \"benefits\": 14, \"qualify\": 4, \"additional\": 5, \"part\": 4, \"advantages\": 1, \"priority\": 3, \"enhance\": 2, \"scores\": 4, \"test\": 7, \"join\": 4, \"eligibility\": 1, \"application\": 2, \"maintain\": 2, \"help\": 12, \"freshmen\": 26, \"transition\": 7, \"designed\": 1, \"peer\": 3, \"incoming\": 4, \"smooth\": 1, \"seniors\": 2, \"senior\": 2, \"students\\'\": 4, \"contribute\": 19, \"all\": 14, \"kind\": 4, \"receive\": 14, \"advisory\": 1, \"assigned\": 3, \"regularly\": 1, \"advisor\": 19, \"professor\": 19, \"member\": 2, \"request\": 1, \"having\": 5, \"studies\": 4, \"types\": 8, \"tend\": 1, \"benefit\": 1, \"easier\": 1, \"undergraduates\": 5, \"common\": 16, \"highest\": 1, \"rates\": 5, \"participation\": 1, \"prioritize\": 2, \"know\": 3, \"want\": 3, \"credits\": 10, \"transfer\": 9, \"guidelines\": 3, \"evaluated\": 2, \"transferred\": 1, \"maximum\": 1, \"graduation\": 40, \"rate\": 47, \"four\": 39, \"years\": 34, \"within\": 12, \"degree\": 9, \"graduating\": 2, \"five\": 8, \"significantly\": 3, \"longer\": 6, \"six\": 8, \"don\\'t\": 3, \"reasons\": 5, \"main\": 1, \"factors\": 20, \"delays\": 2, \"may\": 4, \"experiencing\": 2, \"plan\": 5, \"without\": 2, \"overloading\": 1, \"sequences\": 1, \"timely\": 3, \"recommended\": 1, \"strategies\": 5, \"while\": 1, \"graduated\": 1, \"examples\": 2, \"return\": 4, \"sophomore\": 4, \"retention\": 13, \"second\": 1, \"continue\": 4, \"prematurely\": 4, \"leave\": 4, \"leaving\": 9, \"attrition\": 4, \"considering\": 5, \"efforts\": 3, \"advice\": 7, \"designated\": 1, \"access\": 10, \"throughout\": 1, \"essays\": 1, \"papers\": 1, \"schedule\": 2, \"appointments\": 1, \"subjects\": 1, \"orientation\": 8, \"include\": 1, \"mandatory\": 1, \"families\": 1, \"disability\": 8, \"disabilities\": 1, \"accommodations\": 3, \"separate\": 3, \"cost\": 2, \"using\": 3, \"student\\\\u00e2\\\\u20ac\\\\u2122s\": 3, \"must\": 1, \"testing\": 3, \"recent\": 4, \"documentation\": 2, \"submitting\": 2, \"timeframe\": 2, \"still\": 2, \"past\": 1, \"searches\": 1, \"resume\": 2, \"networking\": 3, \"journey\": 1, \"point\": 1, \"start\": 1, \"frequently\": 1, \"workshops\": 2, \"stay\": 1, \"connected\": 4, \"current\": 5, \"advancement\": 1, \"goals\": 1, \"focus\": 1, \"facilitate\": 1, \"participating\": 5, \"earn\": 1, \"track\": 1, \"calculated\": 1, \"graduates\\'\": 1, \"counted\": 1, \"temporary\": 1, \"data\": 4, \"verify\": 1, \"self\": 2, \"reported\": 2, \"figures\": 1, \"voluntarily\": 1, \"collect\": 1, \"verified\": 1, \"audited\": 1, \"externally\": 1, \"discrepancies\": 1, \"go\": 2, \"schools\": 4, \"professional\": 3, \"degrees\": 4, \"advanced\": 4, \"proportion\": 2, \"applying\": 3, \"feeder\": 1, \"institutions\": 1, \"commonly\": 2, \"universities\": 2, \"partnerships\": 1, \"joint\": 1, \"choices\": 1, \"single\": 1, \"rooms\": 1, \"shared\": 1, \"specialized\": 1, \"upperclassmen\": 2, \"guarantee\": 1, \"option\": 2, \"sophomores\": 1, \"juniors\": 1, \"same\": 1, \"living\": 1, \"roommate\": 2, \"subsequent\": 2, \"roommates\": 4, \"matching\": 1, \"own\": 1, \"assigning\": 1, \"considered\": 3, \"match\": 1, \"survey\": 1, \"compatibility\": 1, \"mental\": 3, \"health\": 3, \"counseling\": 3, \"anxiety\": 1, \"stress\": 1, \"meal\": 4, \"plans\": 3, \"dietary\": 1, \"variety\": 1, \"fraternity\": 2, \"sorority\": 2, \"prevalent\": 1, \"drugs\": 1, \"alcohol\": 2, \"issue\": 1, \"substance\": 3, \"drug\": 1, \"struggling\": 1, \"car\": 4, \"bring\": 1, \"parking\": 2, \"rules\": 1, \"usage\": 1, \"full\": 2, \"demonstrated\": 4, \"packages\": 2, \"determine\": 2, \"scholarships\": 33, \"grants\": 8, \"renewable\": 4, \"shrink\": 1, \"package\": 5, \"decrease\": 1, \"changes\": 3, \"receiving\": 1, \"possibility\": 1, \"happens\": 4, \"circumstances\": 1, \"merit\": 20, \"amount\": 4, \"automatically\": 1, \"components\": 1, \"loans\": 7, \"versus\": 1, \"comprised\": 1, \"form\": 1, \"repayment\": 4, \"award\": 2, \"keep\": 1, \"awards\": 3, \"multiple\": 1, \"scholarship\": 2, \"score\": 1, \"submit\": 3, \"applications\": 5, \"received\": 1, \"renew\": 1, \"renewal\": 1, \"lose\": 1, \"renewed\": 1, \"beyond\": 1, \"gap\": 1, \"takes\": 1, \"awarded\": 1, \"debt\": 5, \"loan\": 10, \"accumulate\": 1, \"manageable\": 1, \"federal\": 3, \"borrowed\": 1, \"plus\": 3, \"incur\": 1, \"costs\": 1, \"finance\": 1, \"alternative\": 1, \"apply\": 5, \"wage\": 1, \"hourly\": 1, \"annual\": 1, \"pace\": 1, \"has\": 2, \"tuition\": 6, \"risen\": 1, \"increase\": 2, \"over\": 2, \"steady\": 1, \"freeze\": 1, \"extra\": 1, \"talents\": 3, \"disciplines\": 3, \"such\": 2, \"arts\": 3, \"athletics\": 1, \"learn\": 1, \"list\": 1, \"centralized\": 1, \"exceptional\": 1, \"records\": 1, \"accurate\": 2, \"net\": 10, \"calculator\": 10, \"estimate\": 1, \"price\": 10, \"rely\": 1, \"results\": 1, \"consider\": 4, \"update\": 1, \"last\": 1, \"reviewed\": 1, \"updated\": 1, \"planned\": 1, \"institution\": 2, \"give\": 1, \"athletes\": 2, \"eligible\": 1, \"default\": 3, \"concern\": 1, \"actions\": 1, \"prevent\": 1, \"defaults\": 1, \"literacy\": 3, \"training\": 1, \"managing\": 1, \"educate\": 1, \"finances\": 1, \"decisions\": 3, \"informed\": 1, \"influenced\": 1, \"attracted\": 1, \"visited\": 1, \"feel\": 3, \"was\": 1, \"wish\": 2, \"improvements\": 1, \"you\\'d\": 1, \"enhanced\": 1, \"aspects\": 4, \"lacking\": 1, \"happiest\": 1, \"attending\": 1, \"highlights\": 1, \"least\": 1, \"you\\'ve\": 1, \"drawbacks\": 2, \"disappointing\": 1, \"frustrating\": 1, \"better\": 1, \"succeed\": 1, \"qualities\": 2, \"type\": 5, \"thrives\": 1, \"success\": 2, \"characteristics\": 1, \"fit\": 4, \"might\": 1, \"obstacles\": 1, \"adjusting\": 1, \"belonging\": 1, \"inclusivity\": 1, \"teenagers\": 1, \"recommend\": 1, \"thrive\": 1, \"interests\": 2, \"interest\": 5, \"demonstrating\": 1, \"important\": 2, \"admissions\": 10, \"prospective\": 1, \"policy\": 3, \"exceptions\": 1, \"optional\": 2, \"applicants\": 3, \"applicable\": 1, \"so\": 1, \"legacy\": 4, \"children\": 1, \"given\": 1, \"preference\": 1, \"account\": 1, \"taken\": 2, \"status\": 2, \"decision\": 1, \"factor\": 1, \"making\": 1, \"interviews\": 5, \"evaluation\": 3, \"purpose\": 1, \"conducts\": 1, \"capped\": 1, \"capacity\": 2, \"accepted\": 2, \"limit\": 1, \"waitlists\": 1, \"grade\": 1, \"\\\\u00e2\\\\u20ac\\\\u201c\": 1, \"gets\": 1, \"theoretical\": 1, \"nature\": 1, \"style\": 1, \"encouraged\": 1, \"world\": 1, \"real\": 1, \"knowledge\": 1, \"switch\": 1, \"discover\": 1, \"consist\": 1, \"usually\": 1, \"core\": 1, \"electives\": 1, \"successfully\": 1, \"grad\": 1, \"prepare\": 1, \"planning\": 1, \"development\": 2, \"interview\": 1, \"preparation\": 1, \"provided\": 1, \"frame\": 1, \"outcomes\": 1, \"companies\": 1, \"completion\": 1, \"schedules\": 1, \"pursuing\": 2, \"delay\": 1, \"departure\": 3, \"exploration\": 3, \"seek\": 4, \"approach\": 5, \"across\": 3, \"engaged\": 3, \"symposiums\": 3, \"gain\": 4, \"field\": 2, \"transferring\": 4, \"another\": 2, \"previous\": 2, \"count\": 2, \"coursework\": 2, \"towards\": 2, \"mentoring\": 1, \"adapt\": 1, \"measures\": 1, \"safety\": 2, \"security\": 2, \"safe\": 1, \"extracurricular\": 2, \"involvement\": 1, \"entrepreneurship\": 2, \"aspiring\": 1, \"entrepreneurs\": 1, \"entrepreneurial\": 1, \"ambitions\": 1, \"sustainability\": 2, \"green\": 2, \"committed\": 1, \"environmental\": 1, \"become\": 1, \"eco\": 1, \"steps\": 1, \"music\": 1, \"performing\": 2, \"musicians\": 1, \"spaces\": 1, \"practice\": 1, \"performance\": 1, \"venues\": 1, \"difference\": 1, \"between\": 1, \"vary\": 1, \"sized\": 1, \"exchange\": 1, \"citizens\": 1, \"us\": 2, \"non\": 2, \"ratio\": 1, \"run\": 1, \"roles\": 1, \"fitness\": 2, \"gym\": 1, \"intramural\": 1, \"tests\": 1, \"standardized\": 1, \"english\": 1, \"language\": 1, \"proficiency\": 1, \"requirement\": 1, \"documents\": 1, \"encourage\": 2, \"curriculum\": 1, \"questions\": 1, \"clarification\": 1, \"emails\": 1, \"responsiveness\": 1, \"transportation\": 4, \"public\": 2, \"mode\": 1, \"surrounding\": 1, \"paths\": 1, \"sharing\": 1, \"bike\": 1}',\n",
       " 'index_docs': '{\"607\": 1, \"608\": 1, \"609\": 1, \"157\": 8, \"346\": 3, \"17\": 89, \"7\": 204, \"2\": 333, \"610\": 1, \"611\": 1, \"438\": 2, \"347\": 3, \"8\": 194, \"612\": 1, \"613\": 1, \"67\": 21, \"614\": 1, \"20\": 68, \"5\": 217, \"348\": 3, \"615\": 1, \"4\": 275, \"616\": 1, \"229\": 5, \"66\": 22, \"618\": 1, \"617\": 1, \"349\": 3, \"620\": 1, \"230\": 5, \"1\": 348, \"28\": 48, \"19\": 76, \"16\": 110, \"70\": 18, \"619\": 1, \"622\": 1, \"3\": 301, \"621\": 1, \"9\": 188, \"178\": 7, \"25\": 52, \"111\": 12, \"623\": 1, \"624\": 1, \"439\": 2, \"440\": 2, \"441\": 2, \"625\": 1, \"626\": 1, \"627\": 1, \"628\": 1, \"10\": 182, \"442\": 2, \"629\": 1, \"134\": 10, \"630\": 1, \"207\": 6, \"13\": 129, \"631\": 1, \"158\": 8, \"58\": 25, \"12\": 146, \"179\": 7, \"80\": 18, \"21\": 69, \"71\": 20, \"49\": 30, \"68\": 21, \"632\": 1, \"443\": 2, \"89\": 16, \"350\": 3, \"285\": 4, \"180\": 7, \"351\": 3, \"181\": 7, \"444\": 2, \"127\": 11, \"15\": 114, \"90\": 16, \"633\": 1, \"112\": 12, \"6\": 210, \"445\": 2, \"34\": 43, \"159\": 8, \"91\": 16, \"113\": 12, \"352\": 3, \"11\": 145, \"353\": 3, \"33\": 45, \"14\": 121, \"182\": 7, \"634\": 1, \"446\": 2, \"92\": 16, \"635\": 1, \"286\": 4, \"93\": 16, \"114\": 12, \"59\": 25, \"160\": 8, \"447\": 2, \"208\": 6, \"354\": 3, \"636\": 1, \"448\": 2, \"287\": 4, \"54\": 27, \"449\": 2, \"209\": 6, \"232\": 5, \"231\": 5, \"450\": 2, \"637\": 1, \"638\": 1, \"233\": 5, \"640\": 1, \"639\": 1, \"115\": 12, \"641\": 1, \"451\": 2, \"234\": 5, \"452\": 2, \"116\": 12, \"235\": 5, \"642\": 1, \"355\": 3, \"644\": 1, \"50\": 30, \"210\": 6, \"643\": 1, \"42\": 37, \"236\": 5, \"645\": 1, \"356\": 3, \"45\": 34, \"117\": 12, \"183\": 7, \"72\": 20, \"453\": 2, \"40\": 38, \"646\": 1, \"118\": 12, \"106\": 13, \"161\": 8, \"454\": 2, \"647\": 1, \"30\": 47, \"23\": 53, \"357\": 3, \"648\": 1, \"455\": 2, \"358\": 3, \"65\": 23, \"649\": 1, \"650\": 1, \"81\": 18, \"135\": 9, \"359\": 3, \"456\": 2, \"211\": 6, \"136\": 10, \"102\": 14, \"457\": 2, \"212\": 6, \"149\": 9, \"162\": 8, \"237\": 3, \"458\": 2, \"18\": 78, \"184\": 7, \"185\": 7, \"360\": 3, \"60\": 24, \"361\": 3, \"651\": 1, \"652\": 1, \"213\": 6, \"461\": 2, \"150\": 9, \"460\": 2, \"459\": 2, \"463\": 2, \"462\": 2, \"35\": 41, \"653\": 1, \"654\": 1, \"186\": 7, \"464\": 2, \"655\": 1, \"128\": 9, \"656\": 1, \"151\": 9, \"657\": 1, \"163\": 8, \"238\": 5, \"99\": 14, \"465\": 2, \"658\": 1, \"107\": 13, \"659\": 1, \"660\": 1, \"466\": 2, \"662\": 1, \"239\": 5, \"467\": 2, \"661\": 1, \"129\": 11, \"61\": 25, \"663\": 1, \"94\": 16, \"664\": 1, \"468\": 2, \"82\": 18, \"152\": 9, \"240\": 5, \"137\": 10, \"241\": 5, \"469\": 2, \"24\": 54, \"188\": 7, \"187\": 7, \"55\": 27, \"41\": 38, \"362\": 3, \"665\": 1, \"191\": 7, \"189\": 7, \"190\": 7, \"363\": 3, \"470\": 2, \"242\": 5, \"29\": 48, \"214\": 6, \"27\": 50, \"22\": 61, \"666\": 1, \"243\": 5, \"130\": 11, \"43\": 36, \"62\": 25, \"192\": 7, \"164\": 8, \"32\": 42, \"31\": 47, \"95\": 16, \"288\": 4, \"165\": 8, \"193\": 7, \"84\": 17, \"166\": 8, \"153\": 9, \"668\": 1, \"667\": 1, \"131\": 11, \"364\": 3, \"471\": 2, \"63\": 24, \"108\": 13, \"669\": 1, \"472\": 2, \"365\": 3, \"215\": 6, \"473\": 2, \"670\": 1, \"474\": 2, \"671\": 1, \"216\": 6, \"672\": 1, \"366\": 3, \"674\": 1, \"367\": 3, \"673\": 1, \"676\": 1, \"675\": 1, \"368\": 3, \"475\": 2, \"677\": 1, \"138\": 10, \"678\": 1, \"476\": 2, \"477\": 2, \"85\": 17, \"217\": 6, \"119\": 12, \"369\": 3, \"48\": 32, \"478\": 2, \"679\": 1, \"244\": 5, \"132\": 11, \"245\": 5, \"479\": 2, \"680\": 1, \"681\": 1, \"682\": 1, \"246\": 5, \"36\": 40, \"480\": 2, \"683\": 1, \"684\": 1, \"685\": 1, \"686\": 1, \"687\": 1, \"689\": 1, \"691\": 1, \"289\": 4, \"688\": 1, \"690\": 1, \"692\": 1, \"693\": 1, \"694\": 1, \"370\": 3, \"696\": 1, \"695\": 1, \"371\": 3, \"697\": 1, \"247\": 5, \"698\": 1, \"481\": 2, \"194\": 7, \"699\": 1, \"700\": 1, \"290\": 4, \"701\": 1, \"83\": 18, \"248\": 5, \"482\": 2, \"702\": 1, \"372\": 3, \"483\": 2, \"249\": 5, \"703\": 1, \"705\": 1, \"704\": 1, \"706\": 1, \"218\": 6, \"195\": 7, \"707\": 1, \"291\": 4, \"373\": 3, \"292\": 4, \"219\": 6, \"375\": 3, \"374\": 3, \"250\": 5, \"251\": 5, \"293\": 4, \"484\": 2, \"485\": 2, \"252\": 5, \"120\": 11, \"486\": 2, \"96\": 16, \"708\": 1, \"487\": 2, \"488\": 2, \"489\": 2, \"86\": 17, \"253\": 5, \"709\": 1, \"294\": 4, \"710\": 1, \"711\": 1, \"376\": 3, \"490\": 2, \"713\": 1, \"491\": 2, \"712\": 1, \"714\": 1, \"716\": 1, \"715\": 1, \"718\": 1, \"717\": 1, \"121\": 12, \"719\": 1, \"87\": 17, \"492\": 2, \"295\": 4, \"51\": 28, \"52\": 28, \"139\": 10, \"122\": 12, \"720\": 1, \"721\": 1, \"296\": 4, \"493\": 2, \"254\": 5, \"140\": 10, \"141\": 10, \"297\": 4, \"255\": 5, \"196\": 7, \"494\": 2, \"377\": 3, \"256\": 5, \"495\": 2, \"722\": 1, \"257\": 5, \"100\": 14, \"496\": 2, \"723\": 1, \"378\": 2, \"76\": 18, \"497\": 2, \"298\": 4, \"220\": 6, \"221\": 6, \"299\": 4, \"258\": 5, \"133\": 11, \"498\": 2, \"64\": 24, \"724\": 1, \"725\": 1, \"726\": 1, \"300\": 4, \"727\": 1, \"728\": 1, \"729\": 1, \"259\": 5, \"260\": 5, \"730\": 1, \"379\": 3, \"499\": 2, \"301\": 4, \"167\": 8, \"500\": 2, \"56\": 26, \"732\": 1, \"731\": 1, \"734\": 1, \"733\": 1, \"501\": 2, \"735\": 1, \"302\": 4, \"380\": 3, \"304\": 4, \"303\": 4, \"53\": 28, \"197\": 7, \"502\": 2, \"38\": 39, \"381\": 3, \"736\": 1, \"737\": 1, \"738\": 1, \"261\": 5, \"382\": 3, \"739\": 1, \"503\": 2, \"740\": 1, \"168\": 8, \"222\": 6, \"741\": 1, \"383\": 3, \"384\": 3, \"305\": 4, \"505\": 2, \"504\": 2, \"198\": 7, \"306\": 4, \"742\": 1, \"743\": 1, \"385\": 3, \"199\": 7, \"169\": 8, \"387\": 3, \"386\": 3, \"262\": 5, \"307\": 4, \"506\": 2, \"263\": 5, \"508\": 2, \"507\": 2, \"200\": 7, \"744\": 1, \"170\": 8, \"509\": 2, \"201\": 7, \"223\": 6, \"510\": 2, \"511\": 2, \"123\": 12, \"745\": 1, \"308\": 4, \"746\": 1, \"264\": 5, \"202\": 7, \"101\": 15, \"512\": 2, \"747\": 1, \"388\": 3, \"748\": 1, \"513\": 2, \"749\": 1, \"750\": 1, \"224\": 6, \"751\": 1, \"44\": 35, \"753\": 1, \"752\": 1, \"755\": 1, \"514\": 2, \"754\": 1, \"515\": 2, \"154\": 9, \"756\": 1, \"389\": 3, \"757\": 1, \"758\": 1, \"516\": 2, \"73\": 20, \"759\": 1, \"760\": 1, \"390\": 3, \"517\": 2, \"225\": 6, \"226\": 6, \"518\": 2, \"519\": 2, \"391\": 3, \"69\": 21, \"761\": 1, \"762\": 1, \"392\": 3, \"520\": 2, \"521\": 2, \"763\": 1, \"764\": 1, \"522\": 2, \"765\": 1, \"523\": 2, \"766\": 1, \"767\": 1, \"524\": 2, \"124\": 12, \"768\": 1, \"769\": 1, \"770\": 1, \"97\": 16, \"771\": 1, \"309\": 4, \"772\": 1, \"265\": 5, \"393\": 3, \"171\": 8, \"774\": 1, \"773\": 1, \"775\": 1, \"525\": 2, \"776\": 1, \"777\": 1, \"88\": 17, \"526\": 2, \"103\": 14, \"310\": 4, \"266\": 5, \"311\": 4, \"778\": 1, \"394\": 3, \"527\": 2, \"312\": 4, \"203\": 7, \"313\": 4, \"779\": 1, \"528\": 2, \"529\": 2, \"125\": 12, \"57\": 26, \"204\": 7, \"780\": 1, \"395\": 3, \"314\": 4, \"781\": 1, \"530\": 2, \"531\": 2, \"315\": 4, \"77\": 19, \"104\": 14, \"316\": 4, \"105\": 14, \"782\": 1, \"396\": 3, \"783\": 1, \"79\": 19, \"78\": 19, \"532\": 2, \"784\": 1, \"267\": 5, \"317\": 4, \"172\": 8, \"785\": 1, \"786\": 1, \"787\": 1, \"268\": 5, \"98\": 16, \"788\": 1, \"269\": 5, \"789\": 1, \"533\": 2, \"398\": 3, \"397\": 3, \"142\": 10, \"109\": 9, \"399\": 3, \"534\": 2, \"791\": 1, \"790\": 1, \"37\": 40, \"26\": 47, \"39\": 39, \"46\": 34, \"126\": 12, \"155\": 9, \"535\": 2, \"173\": 8, \"400\": 3, \"227\": 6, \"174\": 8, \"401\": 3, \"270\": 5, \"792\": 1, \"74\": 20, \"536\": 2, \"318\": 4, \"537\": 2, \"271\": 5, \"538\": 2, \"793\": 1, \"795\": 1, \"402\": 3, \"794\": 1, \"272\": 5, \"796\": 1, \"797\": 1, \"539\": 2, \"319\": 4, \"320\": 4, \"110\": 13, \"798\": 1, \"321\": 4, \"323\": 4, \"322\": 4, \"156\": 9, \"324\": 4, \"273\": 5, \"403\": 3, \"205\": 7, \"799\": 1, \"143\": 10, \"800\": 1, \"801\": 1, \"802\": 1, \"540\": 2, \"803\": 1, \"804\": 1, \"175\": 8, \"805\": 1, \"806\": 1, \"807\": 1, \"176\": 8, \"808\": 1, \"404\": 3, \"405\": 3, \"541\": 2, \"406\": 3, \"407\": 3, \"809\": 1, \"408\": 3, \"325\": 4, \"542\": 2, \"544\": 2, \"543\": 2, \"545\": 2, \"810\": 1, \"811\": 1, \"546\": 2, \"409\": 3, \"813\": 1, \"812\": 1, \"814\": 1, \"815\": 1, \"547\": 2, \"816\": 1, \"326\": 4, \"274\": 5, \"817\": 1, \"818\": 1, \"819\": 1, \"820\": 1, \"275\": 5, \"821\": 1, \"822\": 1, \"823\": 1, \"824\": 1, \"826\": 1, \"825\": 1, \"327\": 4, \"827\": 1, \"548\": 2, \"549\": 2, \"828\": 1, \"829\": 1, \"830\": 1, \"832\": 1, \"831\": 1, \"833\": 1, \"834\": 1, \"550\": 2, \"328\": 4, \"410\": 3, \"330\": 4, \"329\": 4, \"551\": 2, \"411\": 3, \"835\": 1, \"836\": 1, \"552\": 2, \"553\": 2, \"837\": 1, \"838\": 1, \"839\": 1, \"840\": 1, \"554\": 1, \"841\": 1, \"842\": 1, \"555\": 2, \"843\": 1, \"556\": 2, \"844\": 1, \"845\": 1, \"847\": 1, \"846\": 1, \"557\": 2, \"558\": 2, \"331\": 4, \"848\": 1, \"849\": 1, \"850\": 1, \"412\": 3, \"852\": 1, \"851\": 1, \"853\": 1, \"413\": 3, \"414\": 3, \"415\": 3, \"855\": 1, \"854\": 1, \"332\": 4, \"416\": 3, \"856\": 1, \"857\": 1, \"560\": 2, \"559\": 2, \"858\": 1, \"859\": 1, \"561\": 2, \"860\": 1, \"417\": 3, \"861\": 1, \"862\": 1, \"333\": 4, \"863\": 1, \"562\": 2, \"864\": 1, \"865\": 1, \"563\": 2, \"334\": 4, \"565\": 2, \"564\": 2, \"47\": 33, \"177\": 8, \"335\": 4, \"866\": 1, \"276\": 5, \"867\": 1, \"418\": 3, \"869\": 1, \"868\": 1, \"336\": 4, \"870\": 1, \"75\": 20, \"337\": 4, \"871\": 1, \"872\": 1, \"206\": 7, \"873\": 1, \"874\": 1, \"875\": 1, \"338\": 4, \"566\": 2, \"876\": 1, \"419\": 3, \"877\": 1, \"567\": 2, \"878\": 1, \"420\": 3, \"277\": 5, \"879\": 1, \"880\": 1, \"881\": 1, \"882\": 1, \"883\": 1, \"884\": 1, \"886\": 1, \"885\": 1, \"887\": 1, \"278\": 5, \"144\": 10, \"888\": 1, \"889\": 1, \"421\": 3, \"890\": 1, \"422\": 3, \"891\": 1, \"894\": 1, \"893\": 1, \"892\": 1, \"279\": 5, \"896\": 1, \"895\": 1, \"898\": 1, \"897\": 1, \"568\": 2, \"228\": 6, \"899\": 1, \"569\": 2, \"570\": 2, \"900\": 1, \"901\": 1, \"902\": 1, \"423\": 3, \"424\": 3, \"571\": 2, \"425\": 3, \"903\": 1, \"904\": 1, \"906\": 1, \"905\": 1, \"907\": 1, \"908\": 1, \"572\": 2, \"145\": 10, \"147\": 10, \"909\": 1, \"146\": 10, \"910\": 1, \"911\": 1, \"339\": 4, \"913\": 1, \"912\": 1, \"914\": 1, \"915\": 1, \"916\": 1, \"573\": 2, \"917\": 1, \"574\": 2, \"918\": 1, \"426\": 3, \"919\": 1, \"920\": 1, \"921\": 1, \"922\": 1, \"427\": 3, \"923\": 1, \"925\": 1, \"924\": 1, \"926\": 1, \"428\": 3, \"927\": 1, \"928\": 1, \"929\": 1, \"930\": 1, \"429\": 3, \"931\": 1, \"575\": 2, \"932\": 1, \"933\": 1, \"934\": 1, \"340\": 4, \"935\": 1, \"936\": 1, \"937\": 1, \"938\": 1, \"939\": 1, \"940\": 1, \"576\": 2, \"942\": 1, \"941\": 1, \"943\": 1, \"944\": 1, \"577\": 2, \"280\": 5, \"945\": 1, \"578\": 2, \"946\": 1, \"341\": 4, \"947\": 1, \"948\": 1, \"949\": 1, \"951\": 1, \"950\": 1, \"952\": 1, \"953\": 1, \"954\": 1, \"579\": 2, \"281\": 5, \"955\": 1, \"580\": 2, \"148\": 10, \"956\": 1, \"430\": 3, \"957\": 1, \"581\": 2, \"431\": 3, \"958\": 1, \"959\": 1, \"282\": 4, \"960\": 1, \"961\": 1, \"962\": 1, \"963\": 1, \"583\": 2, \"582\": 2, \"965\": 1, \"964\": 1, \"966\": 1, \"283\": 5, \"432\": 3, \"967\": 1, \"968\": 1, \"969\": 1, \"584\": 2, \"585\": 2, \"970\": 1, \"971\": 1, \"974\": 1, \"973\": 1, \"972\": 1, \"975\": 1, \"976\": 1, \"977\": 1, \"978\": 1, \"980\": 1, \"979\": 1, \"981\": 1, \"982\": 1, \"983\": 1, \"985\": 1, \"984\": 1, \"986\": 1, \"987\": 1, \"988\": 1, \"989\": 1, \"990\": 1, \"991\": 1, \"586\": 2, \"992\": 1, \"993\": 1, \"994\": 1, \"995\": 1, \"996\": 1, \"997\": 1, \"998\": 1, \"999\": 1, \"587\": 2, \"1000\": 1, \"433\": 3, \"434\": 3, \"342\": 4, \"284\": 5, \"435\": 3, \"436\": 3, \"437\": 3, \"343\": 4, \"588\": 2, \"344\": 4, \"589\": 2, \"590\": 2, \"592\": 2, \"591\": 2, \"593\": 2, \"1001\": 1, \"1002\": 1, \"1003\": 1, \"594\": 2, \"595\": 2, \"1004\": 1, \"596\": 2, \"1005\": 1, \"597\": 2, \"1006\": 1, \"1007\": 1, \"1008\": 1, \"1009\": 1, \"598\": 2, \"599\": 2, \"1010\": 1, \"1011\": 1, \"1013\": 1, \"1014\": 1, \"1012\": 1, \"1015\": 1, \"600\": 2, \"1018\": 1, \"1017\": 1, \"1016\": 1, \"1019\": 1, \"1020\": 1, \"1021\": 1, \"1022\": 1, \"1023\": 1, \"1024\": 1, \"1025\": 1, \"1026\": 1, \"602\": 2, \"601\": 2, \"1027\": 1, \"1028\": 1, \"1029\": 1, \"603\": 2, \"1030\": 1, \"1031\": 1, \"1033\": 1, \"1032\": 1, \"1034\": 1, \"1035\": 1, \"1036\": 1, \"1037\": 1, \"1038\": 1, \"604\": 2, \"1039\": 1, \"1040\": 1, \"1041\": 1, \"1043\": 1, \"1042\": 1, \"345\": 4, \"605\": 2, \"1045\": 1, \"1044\": 1, \"1046\": 1, \"1047\": 1, \"606\": 1}',\n",
       " 'index_word': '{\"1\": \"the\", \"2\": \"are\", \"3\": \"students\", \"4\": \"what\", \"5\": \"is\", \"6\": \"there\", \"7\": \"how\", \"8\": \"to\", \"9\": \"for\", \"10\": \"college\", \"11\": \"a\", \"12\": \"in\", \"13\": \"of\", \"14\": \"do\", \"15\": \"does\", \"16\": \"can\", \"17\": \"you\", \"18\": \"on\", \"19\": \"or\", \"20\": \"your\", \"21\": \"available\", \"22\": \"research\", \"23\": \"academic\", \"24\": \"campus\", \"25\": \"and\", \"26\": \"rate\", \"27\": \"opportunities\", \"28\": \"with\", \"29\": \"major\", \"30\": \"programs\", \"31\": \"student\", \"32\": \"year\", \"33\": \"have\", \"34\": \"any\", \"35\": \"their\", \"36\": \"many\", \"37\": \"graduation\", \"38\": \"graduate\", \"39\": \"four\", \"40\": \"study\", \"41\": \"support\", \"42\": \"financial\", \"43\": \"abroad\", \"44\": \"specific\", \"45\": \"majors\", \"46\": \"years\", \"47\": \"scholarships\", \"48\": \"percentage\", \"49\": \"about\", \"50\": \"aid\", \"51\": \"career\", \"52\": \"services\", \"53\": \"undergraduate\", \"54\": \"at\", \"55\": \"resources\", \"56\": \"offer\", \"57\": \"freshmen\", \"58\": \"get\", \"59\": \"school\", \"60\": \"classes\", \"61\": \"an\", \"62\": \"it\", \"63\": \"time\", \"64\": \"alumni\", \"65\": \"class\", \"66\": \"i\", \"67\": \"who\", \"68\": \"me\", \"69\": \"requirements\", \"70\": \"my\", \"71\": \"tell\", \"72\": \"high\", \"73\": \"that\", \"74\": \"factors\", \"75\": \"merit\", \"76\": \"job\", \"77\": \"contribute\", \"78\": \"professor\", \"79\": \"advisor\", \"80\": \"courses\", \"81\": \"professors\", \"82\": \"program\", \"83\": \"participate\", \"84\": \"as\", \"85\": \"options\", \"86\": \"international\", \"87\": \"internships\", \"88\": \"honors\", \"89\": \"much\", \"90\": \"provide\", \"91\": \"process\", \"92\": \"placement\", \"93\": \"this\", \"94\": \"advising\", \"95\": \"like\", \"96\": \"from\", \"97\": \"double\", \"98\": \"common\", \"99\": \"writing\", \"100\": \"learning\", \"101\": \"if\", \"102\": \"will\", \"103\": \"benefits\", \"104\": \"all\", \"105\": \"receive\", \"106\": \"most\", \"107\": \"work\", \"108\": \"average\", \"109\": \"transfer\", \"110\": \"retention\", \"111\": \"what\\'s\", \"112\": \"events\", \"113\": \"take\", \"114\": \"choose\", \"115\": \"be\", \"116\": \"which\", \"117\": \"popular\", \"118\": \"after\", \"119\": \"housing\", \"120\": \"different\", \"121\": \"find\", \"122\": \"college\\'s\", \"123\": \"need\", \"124\": \"complete\", \"125\": \"help\", \"126\": \"within\", \"127\": \"facilities\", \"128\": \"based\", \"129\": \"projects\", \"130\": \"involved\", \"131\": \"studying\", \"132\": \"organizations\", \"133\": \"graduates\", \"134\": \"when\", \"135\": \"teaching\", \"136\": \"meet\", \"137\": \"course\", \"138\": \"some\", \"139\": \"center\", \"140\": \"co\", \"141\": \"op\", \"142\": \"credits\", \"143\": \"access\", \"144\": \"loan\", \"145\": \"net\", \"146\": \"price\", \"147\": \"calculator\", \"148\": \"admissions\", \"149\": \"office\", \"150\": \"first\", \"151\": \"typical\", \"152\": \"advisors\", \"153\": \"life\", \"154\": \"certain\", \"155\": \"degree\", \"156\": \"leaving\", \"157\": \"good\", \"158\": \"number\", \"159\": \"admission\", \"160\": \"why\", \"161\": \"departments\", \"162\": \"outside\", \"163\": \"required\", \"164\": \"semester\", \"165\": \"experience\", \"166\": \"freshman\", \"167\": \"emphasize\", \"168\": \"challenges\", \"169\": \"typically\", \"170\": \"lead\", \"171\": \"system\", \"172\": \"types\", \"173\": \"five\", \"174\": \"six\", \"175\": \"orientation\", \"176\": \"disability\", \"177\": \"grants\", \"178\": \"parents\", \"179\": \"offered\", \"180\": \"where\", \"181\": \"address\", \"182\": \"sports\", \"183\": \"enrollment\", \"184\": \"by\", \"185\": \"assistants\", \"186\": \"into\", \"187\": \"use\", \"188\": \"tutoring\", \"189\": \"sizes\", \"190\": \"large\", \"191\": \"small\", \"192\": \"spend\", \"193\": \"expect\", \"194\": \"easy\", \"195\": \"community\", \"196\": \"experiences\", \"197\": \"size\", \"198\": \"credit\", \"199\": \"introductory\", \"200\": \"more\", \"201\": \"play\", \"202\": \"ensure\", \"203\": \"test\", \"204\": \"transition\", \"205\": \"advice\", \"206\": \"loans\", \"207\": \"hours\", \"208\": \"attend\", \"209\": \"school\\'s\", \"210\": \"accessible\", \"211\": \"faculty\", \"212\": \"they\", \"213\": \"lot\", \"214\": \"capstone\", \"215\": \"activities\", \"216\": \"would\", \"217\": \"live\", \"218\": \"among\", \"219\": \"other\", \"220\": \"jobs\", \"221\": \"through\", \"222\": \"face\", \"223\": \"role\", \"224\": \"intended\", \"225\": \"possible\", \"226\": \"change\", \"227\": \"longer\", \"228\": \"tuition\", \"229\": \"should\", \"230\": \"university\", \"231\": \"makes\", \"232\": \"out\", \"233\": \"think\", \"234\": \"could\", \"235\": \"areas\", \"236\": \"needed\", \"237\": \"one\", \"238\": \"reading\", \"239\": \"often\", \"240\": \"guidance\", \"241\": \"selection\", \"242\": \"project\", \"243\": \"engage\", \"244\": \"clubs\", \"245\": \"active\", \"246\": \"greek\", \"247\": \"issues\", \"248\": \"athletic\", \"249\": \"strong\", \"250\": \"anything\", \"251\": \"special\", \"252\": \"diversity\", \"253\": \"significant\", \"254\": \"connect\", \"255\": \"education\", \"256\": \"leadership\", \"257\": \"service\", \"258\": \"assist\", \"259\": \"network\", \"260\": \"practical\", \"261\": \"related\", \"262\": \"upper\", \"263\": \"than\", \"264\": \"during\", \"265\": \"majoring\", \"266\": \"additional\", \"267\": \"having\", \"268\": \"undergraduates\", \"269\": \"rates\", \"270\": \"reasons\", \"271\": \"plan\", \"272\": \"strategies\", \"273\": \"considering\", \"274\": \"current\", \"275\": \"participating\", \"276\": \"package\", \"277\": \"applications\", \"278\": \"debt\", \"279\": \"apply\", \"280\": \"type\", \"281\": \"interest\", \"282\": \"legacy\", \"283\": \"interviews\", \"284\": \"approach\", \"285\": \"hostel\", \"286\": \"did\", \"287\": \"enjoy\", \"288\": \"describe\", \"289\": \"labs\", \"290\": \"friendly\", \"291\": \"make\", \"292\": \"each\", \"293\": \"population\", \"294\": \"diverse\", \"295\": \"finding\", \"296\": \"mentorship\", \"297\": \"cooperative\", \"298\": \"summer\", \"299\": \"employment\", \"300\": \"successful\", \"301\": \"experiential\", \"302\": \"achievements\", \"303\": \"showcase\", \"304\": \"its\", \"305\": \"rating\", \"306\": \"information\", \"307\": \"division\", \"308\": \"registration\", \"309\": \"pursue\", \"310\": \"qualify\", \"311\": \"part\", \"312\": \"scores\", \"313\": \"join\", \"314\": \"incoming\", \"315\": \"students\\'\", \"316\": \"kind\", \"317\": \"studies\", \"318\": \"may\", \"319\": \"return\", \"320\": \"sophomore\", \"321\": \"continue\", \"322\": \"leave\", \"323\": \"prematurely\", \"324\": \"attrition\", \"325\": \"recent\", \"326\": \"connected\", \"327\": \"data\", \"328\": \"schools\", \"329\": \"advanced\", \"330\": \"degrees\", \"331\": \"roommates\", \"332\": \"meal\", \"333\": \"car\", \"334\": \"demonstrated\", \"335\": \"renewable\", \"336\": \"happens\", \"337\": \"amount\", \"338\": \"repayment\", \"339\": \"consider\", \"340\": \"aspects\", \"341\": \"fit\", \"342\": \"seek\", \"343\": \"gain\", \"344\": \"transferring\", \"345\": \"transportation\", \"346\": \"day\", \"347\": \"later\", \"348\": \"made\", \"349\": \"contact\", \"350\": \"fees\", \"351\": \"located\", \"352\": \"criteria\", \"353\": \"library\", \"354\": \"here\", \"355\": \"etc\", \"356\": \"easily\", \"357\": \"well\", \"358\": \"favorite\", \"359\": \"quality\", \"360\": \"taught\", \"361\": \"primarily\", \"362\": \"assistance\", \"363\": \"require\", \"364\": \"week\", \"365\": \"free\", \"366\": \"new\", \"367\": \"kinds\", \"368\": \"recreational\", \"369\": \"dorms\", \"370\": \"computer\", \"371\": \"wifi\", \"372\": \"sense\", \"373\": \"interact\", \"374\": \"body\", \"375\": \"unique\", \"376\": \"interaction\", \"377\": \"skills\", \"378\": \"fairs\", \"379\": \"hands\", \"380\": \"known\", \"381\": \"breakdown\", \"382\": \"initiatives\", \"383\": \"manage\", \"384\": \"bond\", \"385\": \"secure\", \"386\": \"individual\", \"387\": \"attention\", \"388\": \"limited\", \"389\": \"competitive\", \"390\": \"declaring\", \"391\": \"higher\", \"392\": \"gpa\", \"393\": \"restrictions\", \"394\": \"priority\", \"395\": \"peer\", \"396\": \"assigned\", \"397\": \"want\", \"398\": \"know\", \"399\": \"guidelines\", \"400\": \"significantly\", \"401\": \"don\\'t\", \"402\": \"timely\", \"403\": \"efforts\", \"404\": \"accommodations\", \"405\": \"separate\", \"406\": \"using\", \"407\": \"student\\\\u00e2\\\\u20ac\\\\u2122s\", \"408\": \"testing\", \"409\": \"networking\", \"410\": \"professional\", \"411\": \"applying\", \"412\": \"considered\", \"413\": \"mental\", \"414\": \"health\", \"415\": \"counseling\", \"416\": \"plans\", \"417\": \"substance\", \"418\": \"changes\", \"419\": \"awards\", \"420\": \"submit\", \"421\": \"federal\", \"422\": \"plus\", \"423\": \"talents\", \"424\": \"disciplines\", \"425\": \"arts\", \"426\": \"default\", \"427\": \"literacy\", \"428\": \"decisions\", \"429\": \"feel\", \"430\": \"policy\", \"431\": \"applicants\", \"432\": \"evaluation\", \"433\": \"departure\", \"434\": \"exploration\", \"435\": \"across\", \"436\": \"engaged\", \"437\": \"symposiums\", \"438\": \"see\", \"439\": \"morning\", \"440\": \"afternoon\", \"441\": \"evening\", \"442\": \"timings\", \"443\": \"fee\", \"444\": \"reach\", \"445\": \"upcoming\", \"446\": \"placements\", \"447\": \"decide\", \"448\": \"being\", \"449\": \"strengths\", \"450\": \"stand\", \"451\": \"improved\", \"452\": \"improve\", \"453\": \"fields\", \"454\": \"best\", \"455\": \"standout\", \"456\": \"experienced\", \"457\": \"hold\", \"458\": \"meetings\", \"459\": \"were\", \"460\": \"able\", \"461\": \"choice\", \"462\": \"generally\", \"463\": \"preferred\", \"464\": \"lecture\", \"465\": \"assignments\", \"466\": \"emphasis\", \"467\": \"group\", \"468\": \"helpful\", \"469\": \"centers\", \"470\": \"independent\", \"471\": \"per\", \"472\": \"not\", \"473\": \"weekends\", \"474\": \"social\", \"475\": \"near\", \"476\": \"food\", \"477\": \"dining\", \"478\": \"dormitories\", \"479\": \"belong\", \"480\": \"place\", \"481\": \"around\", \"482\": \"culture\", \"483\": \"show\", \"484\": \"sets\", \"485\": \"apart\", \"486\": \"cultural\", \"487\": \"promote\", \"488\": \"inclusion\", \"489\": \"countries\", \"490\": \"groups\", \"491\": \"interactions\", \"492\": \"internship\", \"493\": \"mentors\", \"494\": \"exist\", \"495\": \"positions\", \"496\": \"employers\", \"497\": \"potential\", \"498\": \"notable\", \"499\": \"had\", \"500\": \"others\", \"501\": \"proud\", \"502\": \"total\", \"503\": \"financially\", \"504\": \"affect\", \"505\": \"standing\", \"506\": \"level\", \"507\": \"less\", \"508\": \"intimate\", \"509\": \"discussions\", \"510\": \"difficult\", \"511\": \"enroll\", \"512\": \"tenured\", \"513\": \"regular\", \"514\": \"impacted\", \"515\": \"limitations\", \"516\": \"interested\", \"517\": \"handle\", \"518\": \"switching\", \"519\": \"standards\", \"520\": \"prerequisites\", \"521\": \"declare\", \"522\": \"choosing\", \"523\": \"flexibility\", \"524\": \"expected\", \"525\": \"semesters\", \"526\": \"achieving\", \"527\": \"enhance\", \"528\": \"application\", \"529\": \"maintain\", \"530\": \"seniors\", \"531\": \"senior\", \"532\": \"member\", \"533\": \"prioritize\", \"534\": \"evaluated\", \"535\": \"graduating\", \"536\": \"delays\", \"537\": \"experiencing\", \"538\": \"without\", \"539\": \"examples\", \"540\": \"schedule\", \"541\": \"cost\", \"542\": \"documentation\", \"543\": \"timeframe\", \"544\": \"submitting\", \"545\": \"still\", \"546\": \"resume\", \"547\": \"workshops\", \"548\": \"self\", \"549\": \"reported\", \"550\": \"go\", \"551\": \"proportion\", \"552\": \"commonly\", \"553\": \"universities\", \"554\": \"rooms\", \"555\": \"upperclassmen\", \"556\": \"option\", \"557\": \"roommate\", \"558\": \"subsequent\", \"559\": \"sorority\", \"560\": \"fraternity\", \"561\": \"alcohol\", \"562\": \"parking\", \"563\": \"full\", \"564\": \"determine\", \"565\": \"packages\", \"566\": \"award\", \"567\": \"scholarship\", \"568\": \"has\", \"569\": \"increase\", \"570\": \"over\", \"571\": \"such\", \"572\": \"accurate\", \"573\": \"institution\", \"574\": \"athletes\", \"575\": \"wish\", \"576\": \"drawbacks\", \"577\": \"qualities\", \"578\": \"success\", \"579\": \"interests\", \"580\": \"important\", \"581\": \"optional\", \"582\": \"status\", \"583\": \"taken\", \"584\": \"capacity\", \"585\": \"accepted\", \"586\": \"development\", \"587\": \"pursuing\", \"588\": \"field\", \"589\": \"another\", \"590\": \"previous\", \"591\": \"coursework\", \"592\": \"count\", \"593\": \"towards\", \"594\": \"safety\", \"595\": \"security\", \"596\": \"extracurricular\", \"597\": \"entrepreneurship\", \"598\": \"sustainability\", \"599\": \"green\", \"600\": \"performing\", \"601\": \"non\", \"602\": \"us\", \"603\": \"fitness\", \"604\": \"encourage\", \"605\": \"public\", \"606\": \"bike\", \"607\": \"hi\", \"608\": \"hello\", \"609\": \"hey\", \"610\": \"goodbye\", \"611\": \"bye\", \"612\": \"talk\", \"613\": \"created\", \"614\": \"developer\", \"615\": \"name\", \"616\": \"call\", \"617\": \"introduce\", \"618\": \"yourself\", \"619\": \"communicate\", \"620\": \"ward\", \"621\": \"communication\", \"622\": \"channels\", \"623\": \"up\", \"624\": \"doing\", \"625\": \"thank\", \"626\": \"thanks\", \"627\": \"sorry\", \"628\": \"apologies\", \"629\": \"open\", \"630\": \"operation\", \"631\": \"telephone\", \"632\": \"branches\", \"633\": \"organized\", \"634\": \"complex\", \"635\": \"record\", \"636\": \"happy\", \"637\": \"1\", \"638\": \"complaint\", \"639\": \"needs\", \"640\": \"improvement\", \"641\": \"else\", \"642\": \"administrators\", \"643\": \"registrars\", \"644\": \"officers\", \"645\": \"staff\", \"646\": \"sought\", \"647\": \"reputations\", \"648\": \"regarded\", \"649\": \"subject\", \"650\": \"teachers\", \"651\": \"teaches\", \"652\": \"tas\", \"653\": \"likely\", \"654\": \"desired\", \"655\": \"discussion\", \"656\": \"structured\", \"657\": \"format\", \"658\": \"involving\", \"659\": \"heavy\", \"660\": \"written\", \"661\": \"collaborative\", \"662\": \"presentations\", \"663\": \"teamwork\", \"664\": \"satisfied\", \"665\": \"big\", \"666\": \"culminating\", \"667\": \"daily\", \"668\": \"routine\", \"669\": \"you\\'re\", \"670\": \"weekend\", \"671\": \"scene\", \"672\": \"people\", \"673\": \"things\", \"674\": \"hometown\", \"675\": \"local\", \"676\": \"area\", \"677\": \"attractions\", \"678\": \"how\\'s\", \"679\": \"comfortable\", \"680\": \"lots\", \"681\": \"fraternities\", \"682\": \"sororities\", \"683\": \"location\", \"684\": \"hang\", \"685\": \"spots\", \"686\": \"quiet\", \"687\": \"places\", \"688\": \"science\", \"689\": \"libraries\", \"690\": \"theaters\", \"691\": \"gyms\", \"692\": \"maintained\", \"693\": \"modern\", \"694\": \"enough\", \"695\": \"shortage\", \"696\": \"lab\", \"697\": \"reliable\", \"698\": \"connectivity\", \"699\": \"buildings\", \"700\": \"navigate\", \"701\": \"layout\", \"702\": \"spirit\", \"703\": \"pride\", \"704\": \"spirited\", \"705\": \"traditions\", \"706\": \"fellow\", \"707\": \"friends\", \"708\": \"backgrounds\", \"709\": \"representation\", \"710\": \"races\", \"711\": \"socialization\", \"712\": \"embrace\", \"713\": \"cross\", \"714\": \"cliquish\", \"715\": \"presence\", \"716\": \"cliques\", \"717\": \"segregate\", \"718\": \"exclusive\", \"719\": \"them\", \"720\": \"effective\", \"721\": \"mentor\", \"722\": \"develop\", \"723\": \"recruit\", \"724\": \"mention\", \"725\": \"famous\", \"726\": \"individuals\", \"727\": \"attended\", \"728\": \"visible\", \"729\": \"association\", \"730\": \"classroom\", \"731\": \"distinctive\", \"732\": \"features\", \"733\": \"selling\", \"734\": \"points\", \"735\": \"accomplishments\", \"736\": \"demographic\", \"737\": \"campus\\'s\", \"738\": \"commitment\", \"739\": \"sound\", \"740\": \"stable\", \"741\": \"endowment\", \"742\": \"ratings\", \"743\": \"funds\", \"744\": \"used\", \"745\": \"straightforward\", \"746\": \"encounter\", \"747\": \"undergrad\", \"748\": \"halls\", \"749\": \"chance\", \"750\": \"collaborate\", \"751\": \"general\", \"752\": \"involve\", \"753\": \"close\", \"754\": \"discipline\", \"755\": \"oversubscribed\", \"756\": \"restricted\", \"757\": \"am\", \"758\": \"guaranteed\", \"759\": \"i\\\\u00e2\\\\u20ac\\\\u2122m\", \"760\": \"direct\", \"761\": \"getting\", \"762\": \"availability\", \"763\": \"timeline\", \"764\": \"deadline\", \"765\": \"immediately\", \"766\": \"homework\", \"767\": \"workload\", \"768\": \"dedicate\", \"769\": \"intensive\", \"770\": \"creative\", \"771\": \"two\", \"772\": \"simultaneously\", \"773\": \"trimester\", \"774\": \"quarter\", \"775\": \"calendar\", \"776\": \"sessions\", \"777\": \"length\", \"778\": \"advantages\", \"779\": \"eligibility\", \"780\": \"designed\", \"781\": \"smooth\", \"782\": \"advisory\", \"783\": \"regularly\", \"784\": \"request\", \"785\": \"tend\", \"786\": \"benefit\", \"787\": \"easier\", \"788\": \"highest\", \"789\": \"participation\", \"790\": \"maximum\", \"791\": \"transferred\", \"792\": \"main\", \"793\": \"overloading\", \"794\": \"recommended\", \"795\": \"sequences\", \"796\": \"while\", \"797\": \"graduated\", \"798\": \"second\", \"799\": \"designated\", \"800\": \"throughout\", \"801\": \"essays\", \"802\": \"papers\", \"803\": \"appointments\", \"804\": \"subjects\", \"805\": \"include\", \"806\": \"mandatory\", \"807\": \"families\", \"808\": \"disabilities\", \"809\": \"must\", \"810\": \"past\", \"811\": \"searches\", \"812\": \"point\", \"813\": \"journey\", \"814\": \"start\", \"815\": \"frequently\", \"816\": \"stay\", \"817\": \"advancement\", \"818\": \"goals\", \"819\": \"focus\", \"820\": \"facilitate\", \"821\": \"earn\", \"822\": \"track\", \"823\": \"calculated\", \"824\": \"graduates\\'\", \"825\": \"temporary\", \"826\": \"counted\", \"827\": \"verify\", \"828\": \"figures\", \"829\": \"voluntarily\", \"830\": \"collect\", \"831\": \"audited\", \"832\": \"verified\", \"833\": \"externally\", \"834\": \"discrepancies\", \"835\": \"feeder\", \"836\": \"institutions\", \"837\": \"partnerships\", \"838\": \"joint\", \"839\": \"choices\", \"840\": \"single\", \"841\": \"shared\", \"842\": \"specialized\", \"843\": \"guarantee\", \"844\": \"sophomores\", \"845\": \"juniors\", \"846\": \"living\", \"847\": \"same\", \"848\": \"matching\", \"849\": \"own\", \"850\": \"assigning\", \"851\": \"survey\", \"852\": \"match\", \"853\": \"compatibility\", \"854\": \"stress\", \"855\": \"anxiety\", \"856\": \"dietary\", \"857\": \"variety\", \"858\": \"prevalent\", \"859\": \"drugs\", \"860\": \"issue\", \"861\": \"drug\", \"862\": \"struggling\", \"863\": \"bring\", \"864\": \"rules\", \"865\": \"usage\", \"866\": \"shrink\", \"867\": \"decrease\", \"868\": \"possibility\", \"869\": \"receiving\", \"870\": \"circumstances\", \"871\": \"automatically\", \"872\": \"components\", \"873\": \"versus\", \"874\": \"comprised\", \"875\": \"form\", \"876\": \"keep\", \"877\": \"multiple\", \"878\": \"score\", \"879\": \"received\", \"880\": \"renew\", \"881\": \"renewal\", \"882\": \"lose\", \"883\": \"renewed\", \"884\": \"beyond\", \"885\": \"takes\", \"886\": \"gap\", \"887\": \"awarded\", \"888\": \"accumulate\", \"889\": \"manageable\", \"890\": \"borrowed\", \"891\": \"incur\", \"892\": \"alternative\", \"893\": \"finance\", \"894\": \"costs\", \"895\": \"hourly\", \"896\": \"wage\", \"897\": \"pace\", \"898\": \"annual\", \"899\": \"risen\", \"900\": \"steady\", \"901\": \"freeze\", \"902\": \"extra\", \"903\": \"athletics\", \"904\": \"learn\", \"905\": \"centralized\", \"906\": \"list\", \"907\": \"exceptional\", \"908\": \"records\", \"909\": \"estimate\", \"910\": \"rely\", \"911\": \"results\", \"912\": \"last\", \"913\": \"update\", \"914\": \"reviewed\", \"915\": \"updated\", \"916\": \"planned\", \"917\": \"give\", \"918\": \"eligible\", \"919\": \"concern\", \"920\": \"actions\", \"921\": \"prevent\", \"922\": \"defaults\", \"923\": \"training\", \"924\": \"educate\", \"925\": \"managing\", \"926\": \"finances\", \"927\": \"informed\", \"928\": \"influenced\", \"929\": \"attracted\", \"930\": \"visited\", \"931\": \"was\", \"932\": \"improvements\", \"933\": \"you\\'d\", \"934\": \"enhanced\", \"935\": \"lacking\", \"936\": \"happiest\", \"937\": \"attending\", \"938\": \"highlights\", \"939\": \"least\", \"940\": \"you\\'ve\", \"941\": \"frustrating\", \"942\": \"disappointing\", \"943\": \"better\", \"944\": \"succeed\", \"945\": \"thrives\", \"946\": \"characteristics\", \"947\": \"might\", \"948\": \"obstacles\", \"949\": \"adjusting\", \"950\": \"inclusivity\", \"951\": \"belonging\", \"952\": \"teenagers\", \"953\": \"recommend\", \"954\": \"thrive\", \"955\": \"demonstrating\", \"956\": \"prospective\", \"957\": \"exceptions\", \"958\": \"applicable\", \"959\": \"so\", \"960\": \"children\", \"961\": \"given\", \"962\": \"preference\", \"963\": \"account\", \"964\": \"factor\", \"965\": \"decision\", \"966\": \"making\", \"967\": \"purpose\", \"968\": \"conducts\", \"969\": \"capped\", \"970\": \"limit\", \"971\": \"waitlists\", \"972\": \"gets\", \"973\": \"\\\\u00e2\\\\u20ac\\\\u201c\", \"974\": \"grade\", \"975\": \"theoretical\", \"976\": \"nature\", \"977\": \"style\", \"978\": \"encouraged\", \"979\": \"real\", \"980\": \"world\", \"981\": \"knowledge\", \"982\": \"switch\", \"983\": \"discover\", \"984\": \"usually\", \"985\": \"consist\", \"986\": \"core\", \"987\": \"electives\", \"988\": \"successfully\", \"989\": \"grad\", \"990\": \"prepare\", \"991\": \"planning\", \"992\": \"interview\", \"993\": \"preparation\", \"994\": \"provided\", \"995\": \"frame\", \"996\": \"outcomes\", \"997\": \"companies\", \"998\": \"completion\", \"999\": \"schedules\", \"1000\": \"delay\", \"1001\": \"mentoring\", \"1002\": \"adapt\", \"1003\": \"measures\", \"1004\": \"safe\", \"1005\": \"involvement\", \"1006\": \"aspiring\", \"1007\": \"entrepreneurs\", \"1008\": \"entrepreneurial\", \"1009\": \"ambitions\", \"1010\": \"committed\", \"1011\": \"environmental\", \"1012\": \"steps\", \"1013\": \"become\", \"1014\": \"eco\", \"1015\": \"music\", \"1016\": \"practice\", \"1017\": \"spaces\", \"1018\": \"musicians\", \"1019\": \"performance\", \"1020\": \"venues\", \"1021\": \"difference\", \"1022\": \"between\", \"1023\": \"vary\", \"1024\": \"sized\", \"1025\": \"exchange\", \"1026\": \"citizens\", \"1027\": \"ratio\", \"1028\": \"run\", \"1029\": \"roles\", \"1030\": \"gym\", \"1031\": \"intramural\", \"1032\": \"standardized\", \"1033\": \"tests\", \"1034\": \"english\", \"1035\": \"language\", \"1036\": \"proficiency\", \"1037\": \"requirement\", \"1038\": \"documents\", \"1039\": \"curriculum\", \"1040\": \"questions\", \"1041\": \"clarification\", \"1042\": \"responsiveness\", \"1043\": \"emails\", \"1044\": \"surrounding\", \"1045\": \"mode\", \"1046\": \"paths\", \"1047\": \"sharing\"}',\n",
       " 'word_index': '{\"the\": 1, \"are\": 2, \"students\": 3, \"what\": 4, \"is\": 5, \"there\": 6, \"how\": 7, \"to\": 8, \"for\": 9, \"college\": 10, \"a\": 11, \"in\": 12, \"of\": 13, \"do\": 14, \"does\": 15, \"can\": 16, \"you\": 17, \"on\": 18, \"or\": 19, \"your\": 20, \"available\": 21, \"research\": 22, \"academic\": 23, \"campus\": 24, \"and\": 25, \"rate\": 26, \"opportunities\": 27, \"with\": 28, \"major\": 29, \"programs\": 30, \"student\": 31, \"year\": 32, \"have\": 33, \"any\": 34, \"their\": 35, \"many\": 36, \"graduation\": 37, \"graduate\": 38, \"four\": 39, \"study\": 40, \"support\": 41, \"financial\": 42, \"abroad\": 43, \"specific\": 44, \"majors\": 45, \"years\": 46, \"scholarships\": 47, \"percentage\": 48, \"about\": 49, \"aid\": 50, \"career\": 51, \"services\": 52, \"undergraduate\": 53, \"at\": 54, \"resources\": 55, \"offer\": 56, \"freshmen\": 57, \"get\": 58, \"school\": 59, \"classes\": 60, \"an\": 61, \"it\": 62, \"time\": 63, \"alumni\": 64, \"class\": 65, \"i\": 66, \"who\": 67, \"me\": 68, \"requirements\": 69, \"my\": 70, \"tell\": 71, \"high\": 72, \"that\": 73, \"factors\": 74, \"merit\": 75, \"job\": 76, \"contribute\": 77, \"professor\": 78, \"advisor\": 79, \"courses\": 80, \"professors\": 81, \"program\": 82, \"participate\": 83, \"as\": 84, \"options\": 85, \"international\": 86, \"internships\": 87, \"honors\": 88, \"much\": 89, \"provide\": 90, \"process\": 91, \"placement\": 92, \"this\": 93, \"advising\": 94, \"like\": 95, \"from\": 96, \"double\": 97, \"common\": 98, \"writing\": 99, \"learning\": 100, \"if\": 101, \"will\": 102, \"benefits\": 103, \"all\": 104, \"receive\": 105, \"most\": 106, \"work\": 107, \"average\": 108, \"transfer\": 109, \"retention\": 110, \"what\\'s\": 111, \"events\": 112, \"take\": 113, \"choose\": 114, \"be\": 115, \"which\": 116, \"popular\": 117, \"after\": 118, \"housing\": 119, \"different\": 120, \"find\": 121, \"college\\'s\": 122, \"need\": 123, \"complete\": 124, \"help\": 125, \"within\": 126, \"facilities\": 127, \"based\": 128, \"projects\": 129, \"involved\": 130, \"studying\": 131, \"organizations\": 132, \"graduates\": 133, \"when\": 134, \"teaching\": 135, \"meet\": 136, \"course\": 137, \"some\": 138, \"center\": 139, \"co\": 140, \"op\": 141, \"credits\": 142, \"access\": 143, \"loan\": 144, \"net\": 145, \"price\": 146, \"calculator\": 147, \"admissions\": 148, \"office\": 149, \"first\": 150, \"typical\": 151, \"advisors\": 152, \"life\": 153, \"certain\": 154, \"degree\": 155, \"leaving\": 156, \"good\": 157, \"number\": 158, \"admission\": 159, \"why\": 160, \"departments\": 161, \"outside\": 162, \"required\": 163, \"semester\": 164, \"experience\": 165, \"freshman\": 166, \"emphasize\": 167, \"challenges\": 168, \"typically\": 169, \"lead\": 170, \"system\": 171, \"types\": 172, \"five\": 173, \"six\": 174, \"orientation\": 175, \"disability\": 176, \"grants\": 177, \"parents\": 178, \"offered\": 179, \"where\": 180, \"address\": 181, \"sports\": 182, \"enrollment\": 183, \"by\": 184, \"assistants\": 185, \"into\": 186, \"use\": 187, \"tutoring\": 188, \"sizes\": 189, \"large\": 190, \"small\": 191, \"spend\": 192, \"expect\": 193, \"easy\": 194, \"community\": 195, \"experiences\": 196, \"size\": 197, \"credit\": 198, \"introductory\": 199, \"more\": 200, \"play\": 201, \"ensure\": 202, \"test\": 203, \"transition\": 204, \"advice\": 205, \"loans\": 206, \"hours\": 207, \"attend\": 208, \"school\\'s\": 209, \"accessible\": 210, \"faculty\": 211, \"they\": 212, \"lot\": 213, \"capstone\": 214, \"activities\": 215, \"would\": 216, \"live\": 217, \"among\": 218, \"other\": 219, \"jobs\": 220, \"through\": 221, \"face\": 222, \"role\": 223, \"intended\": 224, \"possible\": 225, \"change\": 226, \"longer\": 227, \"tuition\": 228, \"should\": 229, \"university\": 230, \"makes\": 231, \"out\": 232, \"think\": 233, \"could\": 234, \"areas\": 235, \"needed\": 236, \"one\": 237, \"reading\": 238, \"often\": 239, \"guidance\": 240, \"selection\": 241, \"project\": 242, \"engage\": 243, \"clubs\": 244, \"active\": 245, \"greek\": 246, \"issues\": 247, \"athletic\": 248, \"strong\": 249, \"anything\": 250, \"special\": 251, \"diversity\": 252, \"significant\": 253, \"connect\": 254, \"education\": 255, \"leadership\": 256, \"service\": 257, \"assist\": 258, \"network\": 259, \"practical\": 260, \"related\": 261, \"upper\": 262, \"than\": 263, \"during\": 264, \"majoring\": 265, \"additional\": 266, \"having\": 267, \"undergraduates\": 268, \"rates\": 269, \"reasons\": 270, \"plan\": 271, \"strategies\": 272, \"considering\": 273, \"current\": 274, \"participating\": 275, \"package\": 276, \"applications\": 277, \"debt\": 278, \"apply\": 279, \"type\": 280, \"interest\": 281, \"legacy\": 282, \"interviews\": 283, \"approach\": 284, \"hostel\": 285, \"did\": 286, \"enjoy\": 287, \"describe\": 288, \"labs\": 289, \"friendly\": 290, \"make\": 291, \"each\": 292, \"population\": 293, \"diverse\": 294, \"finding\": 295, \"mentorship\": 296, \"cooperative\": 297, \"summer\": 298, \"employment\": 299, \"successful\": 300, \"experiential\": 301, \"achievements\": 302, \"showcase\": 303, \"its\": 304, \"rating\": 305, \"information\": 306, \"division\": 307, \"registration\": 308, \"pursue\": 309, \"qualify\": 310, \"part\": 311, \"scores\": 312, \"join\": 313, \"incoming\": 314, \"students\\'\": 315, \"kind\": 316, \"studies\": 317, \"may\": 318, \"return\": 319, \"sophomore\": 320, \"continue\": 321, \"leave\": 322, \"prematurely\": 323, \"attrition\": 324, \"recent\": 325, \"connected\": 326, \"data\": 327, \"schools\": 328, \"advanced\": 329, \"degrees\": 330, \"roommates\": 331, \"meal\": 332, \"car\": 333, \"demonstrated\": 334, \"renewable\": 335, \"happens\": 336, \"amount\": 337, \"repayment\": 338, \"consider\": 339, \"aspects\": 340, \"fit\": 341, \"seek\": 342, \"gain\": 343, \"transferring\": 344, \"transportation\": 345, \"day\": 346, \"later\": 347, \"made\": 348, \"contact\": 349, \"fees\": 350, \"located\": 351, \"criteria\": 352, \"library\": 353, \"here\": 354, \"etc\": 355, \"easily\": 356, \"well\": 357, \"favorite\": 358, \"quality\": 359, \"taught\": 360, \"primarily\": 361, \"assistance\": 362, \"require\": 363, \"week\": 364, \"free\": 365, \"new\": 366, \"kinds\": 367, \"recreational\": 368, \"dorms\": 369, \"computer\": 370, \"wifi\": 371, \"sense\": 372, \"interact\": 373, \"body\": 374, \"unique\": 375, \"interaction\": 376, \"skills\": 377, \"fairs\": 378, \"hands\": 379, \"known\": 380, \"breakdown\": 381, \"initiatives\": 382, \"manage\": 383, \"bond\": 384, \"secure\": 385, \"individual\": 386, \"attention\": 387, \"limited\": 388, \"competitive\": 389, \"declaring\": 390, \"higher\": 391, \"gpa\": 392, \"restrictions\": 393, \"priority\": 394, \"peer\": 395, \"assigned\": 396, \"want\": 397, \"know\": 398, \"guidelines\": 399, \"significantly\": 400, \"don\\'t\": 401, \"timely\": 402, \"efforts\": 403, \"accommodations\": 404, \"separate\": 405, \"using\": 406, \"student\\\\u00e2\\\\u20ac\\\\u2122s\": 407, \"testing\": 408, \"networking\": 409, \"professional\": 410, \"applying\": 411, \"considered\": 412, \"mental\": 413, \"health\": 414, \"counseling\": 415, \"plans\": 416, \"substance\": 417, \"changes\": 418, \"awards\": 419, \"submit\": 420, \"federal\": 421, \"plus\": 422, \"talents\": 423, \"disciplines\": 424, \"arts\": 425, \"default\": 426, \"literacy\": 427, \"decisions\": 428, \"feel\": 429, \"policy\": 430, \"applicants\": 431, \"evaluation\": 432, \"departure\": 433, \"exploration\": 434, \"across\": 435, \"engaged\": 436, \"symposiums\": 437, \"see\": 438, \"morning\": 439, \"afternoon\": 440, \"evening\": 441, \"timings\": 442, \"fee\": 443, \"reach\": 444, \"upcoming\": 445, \"placements\": 446, \"decide\": 447, \"being\": 448, \"strengths\": 449, \"stand\": 450, \"improved\": 451, \"improve\": 452, \"fields\": 453, \"best\": 454, \"standout\": 455, \"experienced\": 456, \"hold\": 457, \"meetings\": 458, \"were\": 459, \"able\": 460, \"choice\": 461, \"generally\": 462, \"preferred\": 463, \"lecture\": 464, \"assignments\": 465, \"emphasis\": 466, \"group\": 467, \"helpful\": 468, \"centers\": 469, \"independent\": 470, \"per\": 471, \"not\": 472, \"weekends\": 473, \"social\": 474, \"near\": 475, \"food\": 476, \"dining\": 477, \"dormitories\": 478, \"belong\": 479, \"place\": 480, \"around\": 481, \"culture\": 482, \"show\": 483, \"sets\": 484, \"apart\": 485, \"cultural\": 486, \"promote\": 487, \"inclusion\": 488, \"countries\": 489, \"groups\": 490, \"interactions\": 491, \"internship\": 492, \"mentors\": 493, \"exist\": 494, \"positions\": 495, \"employers\": 496, \"potential\": 497, \"notable\": 498, \"had\": 499, \"others\": 500, \"proud\": 501, \"total\": 502, \"financially\": 503, \"affect\": 504, \"standing\": 505, \"level\": 506, \"less\": 507, \"intimate\": 508, \"discussions\": 509, \"difficult\": 510, \"enroll\": 511, \"tenured\": 512, \"regular\": 513, \"impacted\": 514, \"limitations\": 515, \"interested\": 516, \"handle\": 517, \"switching\": 518, \"standards\": 519, \"prerequisites\": 520, \"declare\": 521, \"choosing\": 522, \"flexibility\": 523, \"expected\": 524, \"semesters\": 525, \"achieving\": 526, \"enhance\": 527, \"application\": 528, \"maintain\": 529, \"seniors\": 530, \"senior\": 531, \"member\": 532, \"prioritize\": 533, \"evaluated\": 534, \"graduating\": 535, \"delays\": 536, \"experiencing\": 537, \"without\": 538, \"examples\": 539, \"schedule\": 540, \"cost\": 541, \"documentation\": 542, \"timeframe\": 543, \"submitting\": 544, \"still\": 545, \"resume\": 546, \"workshops\": 547, \"self\": 548, \"reported\": 549, \"go\": 550, \"proportion\": 551, \"commonly\": 552, \"universities\": 553, \"rooms\": 554, \"upperclassmen\": 555, \"option\": 556, \"roommate\": 557, \"subsequent\": 558, \"sorority\": 559, \"fraternity\": 560, \"alcohol\": 561, \"parking\": 562, \"full\": 563, \"determine\": 564, \"packages\": 565, \"award\": 566, \"scholarship\": 567, \"has\": 568, \"increase\": 569, \"over\": 570, \"such\": 571, \"accurate\": 572, \"institution\": 573, \"athletes\": 574, \"wish\": 575, \"drawbacks\": 576, \"qualities\": 577, \"success\": 578, \"interests\": 579, \"important\": 580, \"optional\": 581, \"status\": 582, \"taken\": 583, \"capacity\": 584, \"accepted\": 585, \"development\": 586, \"pursuing\": 587, \"field\": 588, \"another\": 589, \"previous\": 590, \"coursework\": 591, \"count\": 592, \"towards\": 593, \"safety\": 594, \"security\": 595, \"extracurricular\": 596, \"entrepreneurship\": 597, \"sustainability\": 598, \"green\": 599, \"performing\": 600, \"non\": 601, \"us\": 602, \"fitness\": 603, \"encourage\": 604, \"public\": 605, \"bike\": 606, \"hi\": 607, \"hello\": 608, \"hey\": 609, \"goodbye\": 610, \"bye\": 611, \"talk\": 612, \"created\": 613, \"developer\": 614, \"name\": 615, \"call\": 616, \"introduce\": 617, \"yourself\": 618, \"communicate\": 619, \"ward\": 620, \"communication\": 621, \"channels\": 622, \"up\": 623, \"doing\": 624, \"thank\": 625, \"thanks\": 626, \"sorry\": 627, \"apologies\": 628, \"open\": 629, \"operation\": 630, \"telephone\": 631, \"branches\": 632, \"organized\": 633, \"complex\": 634, \"record\": 635, \"happy\": 636, \"1\": 637, \"complaint\": 638, \"needs\": 639, \"improvement\": 640, \"else\": 641, \"administrators\": 642, \"registrars\": 643, \"officers\": 644, \"staff\": 645, \"sought\": 646, \"reputations\": 647, \"regarded\": 648, \"subject\": 649, \"teachers\": 650, \"teaches\": 651, \"tas\": 652, \"likely\": 653, \"desired\": 654, \"discussion\": 655, \"structured\": 656, \"format\": 657, \"involving\": 658, \"heavy\": 659, \"written\": 660, \"collaborative\": 661, \"presentations\": 662, \"teamwork\": 663, \"satisfied\": 664, \"big\": 665, \"culminating\": 666, \"daily\": 667, \"routine\": 668, \"you\\'re\": 669, \"weekend\": 670, \"scene\": 671, \"people\": 672, \"things\": 673, \"hometown\": 674, \"local\": 675, \"area\": 676, \"attractions\": 677, \"how\\'s\": 678, \"comfortable\": 679, \"lots\": 680, \"fraternities\": 681, \"sororities\": 682, \"location\": 683, \"hang\": 684, \"spots\": 685, \"quiet\": 686, \"places\": 687, \"science\": 688, \"libraries\": 689, \"theaters\": 690, \"gyms\": 691, \"maintained\": 692, \"modern\": 693, \"enough\": 694, \"shortage\": 695, \"lab\": 696, \"reliable\": 697, \"connectivity\": 698, \"buildings\": 699, \"navigate\": 700, \"layout\": 701, \"spirit\": 702, \"pride\": 703, \"spirited\": 704, \"traditions\": 705, \"fellow\": 706, \"friends\": 707, \"backgrounds\": 708, \"representation\": 709, \"races\": 710, \"socialization\": 711, \"embrace\": 712, \"cross\": 713, \"cliquish\": 714, \"presence\": 715, \"cliques\": 716, \"segregate\": 717, \"exclusive\": 718, \"them\": 719, \"effective\": 720, \"mentor\": 721, \"develop\": 722, \"recruit\": 723, \"mention\": 724, \"famous\": 725, \"individuals\": 726, \"attended\": 727, \"visible\": 728, \"association\": 729, \"classroom\": 730, \"distinctive\": 731, \"features\": 732, \"selling\": 733, \"points\": 734, \"accomplishments\": 735, \"demographic\": 736, \"campus\\'s\": 737, \"commitment\": 738, \"sound\": 739, \"stable\": 740, \"endowment\": 741, \"ratings\": 742, \"funds\": 743, \"used\": 744, \"straightforward\": 745, \"encounter\": 746, \"undergrad\": 747, \"halls\": 748, \"chance\": 749, \"collaborate\": 750, \"general\": 751, \"involve\": 752, \"close\": 753, \"discipline\": 754, \"oversubscribed\": 755, \"restricted\": 756, \"am\": 757, \"guaranteed\": 758, \"i\\\\u00e2\\\\u20ac\\\\u2122m\": 759, \"direct\": 760, \"getting\": 761, \"availability\": 762, \"timeline\": 763, \"deadline\": 764, \"immediately\": 765, \"homework\": 766, \"workload\": 767, \"dedicate\": 768, \"intensive\": 769, \"creative\": 770, \"two\": 771, \"simultaneously\": 772, \"trimester\": 773, \"quarter\": 774, \"calendar\": 775, \"sessions\": 776, \"length\": 777, \"advantages\": 778, \"eligibility\": 779, \"designed\": 780, \"smooth\": 781, \"advisory\": 782, \"regularly\": 783, \"request\": 784, \"tend\": 785, \"benefit\": 786, \"easier\": 787, \"highest\": 788, \"participation\": 789, \"maximum\": 790, \"transferred\": 791, \"main\": 792, \"overloading\": 793, \"recommended\": 794, \"sequences\": 795, \"while\": 796, \"graduated\": 797, \"second\": 798, \"designated\": 799, \"throughout\": 800, \"essays\": 801, \"papers\": 802, \"appointments\": 803, \"subjects\": 804, \"include\": 805, \"mandatory\": 806, \"families\": 807, \"disabilities\": 808, \"must\": 809, \"past\": 810, \"searches\": 811, \"point\": 812, \"journey\": 813, \"start\": 814, \"frequently\": 815, \"stay\": 816, \"advancement\": 817, \"goals\": 818, \"focus\": 819, \"facilitate\": 820, \"earn\": 821, \"track\": 822, \"calculated\": 823, \"graduates\\'\": 824, \"temporary\": 825, \"counted\": 826, \"verify\": 827, \"figures\": 828, \"voluntarily\": 829, \"collect\": 830, \"audited\": 831, \"verified\": 832, \"externally\": 833, \"discrepancies\": 834, \"feeder\": 835, \"institutions\": 836, \"partnerships\": 837, \"joint\": 838, \"choices\": 839, \"single\": 840, \"shared\": 841, \"specialized\": 842, \"guarantee\": 843, \"sophomores\": 844, \"juniors\": 845, \"living\": 846, \"same\": 847, \"matching\": 848, \"own\": 849, \"assigning\": 850, \"survey\": 851, \"match\": 852, \"compatibility\": 853, \"stress\": 854, \"anxiety\": 855, \"dietary\": 856, \"variety\": 857, \"prevalent\": 858, \"drugs\": 859, \"issue\": 860, \"drug\": 861, \"struggling\": 862, \"bring\": 863, \"rules\": 864, \"usage\": 865, \"shrink\": 866, \"decrease\": 867, \"possibility\": 868, \"receiving\": 869, \"circumstances\": 870, \"automatically\": 871, \"components\": 872, \"versus\": 873, \"comprised\": 874, \"form\": 875, \"keep\": 876, \"multiple\": 877, \"score\": 878, \"received\": 879, \"renew\": 880, \"renewal\": 881, \"lose\": 882, \"renewed\": 883, \"beyond\": 884, \"takes\": 885, \"gap\": 886, \"awarded\": 887, \"accumulate\": 888, \"manageable\": 889, \"borrowed\": 890, \"incur\": 891, \"alternative\": 892, \"finance\": 893, \"costs\": 894, \"hourly\": 895, \"wage\": 896, \"pace\": 897, \"annual\": 898, \"risen\": 899, \"steady\": 900, \"freeze\": 901, \"extra\": 902, \"athletics\": 903, \"learn\": 904, \"centralized\": 905, \"list\": 906, \"exceptional\": 907, \"records\": 908, \"estimate\": 909, \"rely\": 910, \"results\": 911, \"last\": 912, \"update\": 913, \"reviewed\": 914, \"updated\": 915, \"planned\": 916, \"give\": 917, \"eligible\": 918, \"concern\": 919, \"actions\": 920, \"prevent\": 921, \"defaults\": 922, \"training\": 923, \"educate\": 924, \"managing\": 925, \"finances\": 926, \"informed\": 927, \"influenced\": 928, \"attracted\": 929, \"visited\": 930, \"was\": 931, \"improvements\": 932, \"you\\'d\": 933, \"enhanced\": 934, \"lacking\": 935, \"happiest\": 936, \"attending\": 937, \"highlights\": 938, \"least\": 939, \"you\\'ve\": 940, \"frustrating\": 941, \"disappointing\": 942, \"better\": 943, \"succeed\": 944, \"thrives\": 945, \"characteristics\": 946, \"might\": 947, \"obstacles\": 948, \"adjusting\": 949, \"inclusivity\": 950, \"belonging\": 951, \"teenagers\": 952, \"recommend\": 953, \"thrive\": 954, \"demonstrating\": 955, \"prospective\": 956, \"exceptions\": 957, \"applicable\": 958, \"so\": 959, \"children\": 960, \"given\": 961, \"preference\": 962, \"account\": 963, \"factor\": 964, \"decision\": 965, \"making\": 966, \"purpose\": 967, \"conducts\": 968, \"capped\": 969, \"limit\": 970, \"waitlists\": 971, \"gets\": 972, \"\\\\u00e2\\\\u20ac\\\\u201c\": 973, \"grade\": 974, \"theoretical\": 975, \"nature\": 976, \"style\": 977, \"encouraged\": 978, \"real\": 979, \"world\": 980, \"knowledge\": 981, \"switch\": 982, \"discover\": 983, \"usually\": 984, \"consist\": 985, \"core\": 986, \"electives\": 987, \"successfully\": 988, \"grad\": 989, \"prepare\": 990, \"planning\": 991, \"interview\": 992, \"preparation\": 993, \"provided\": 994, \"frame\": 995, \"outcomes\": 996, \"companies\": 997, \"completion\": 998, \"schedules\": 999, \"delay\": 1000, \"mentoring\": 1001, \"adapt\": 1002, \"measures\": 1003, \"safe\": 1004, \"involvement\": 1005, \"aspiring\": 1006, \"entrepreneurs\": 1007, \"entrepreneurial\": 1008, \"ambitions\": 1009, \"committed\": 1010, \"environmental\": 1011, \"steps\": 1012, \"become\": 1013, \"eco\": 1014, \"music\": 1015, \"practice\": 1016, \"spaces\": 1017, \"musicians\": 1018, \"performance\": 1019, \"venues\": 1020, \"difference\": 1021, \"between\": 1022, \"vary\": 1023, \"sized\": 1024, \"exchange\": 1025, \"citizens\": 1026, \"ratio\": 1027, \"run\": 1028, \"roles\": 1029, \"gym\": 1030, \"intramural\": 1031, \"standardized\": 1032, \"tests\": 1033, \"english\": 1034, \"language\": 1035, \"proficiency\": 1036, \"requirement\": 1037, \"documents\": 1038, \"curriculum\": 1039, \"questions\": 1040, \"clarification\": 1041, \"responsiveness\": 1042, \"emails\": 1043, \"surrounding\": 1044, \"mode\": 1045, \"paths\": 1046, \"sharing\": 1047}'}"
      ]
     },
     "execution_count": 9,
     "metadata": {},
     "output_type": "execute_result"
    }
   ],
   "source": [
    "from tensorflow.keras.preprocessing.text import Tokenizer\n",
    "tokenizer = Tokenizer(lower=True, split=' ')\n",
    "tokenizer.fit_on_texts(df['text'])\n",
    "tokenizer.get_config()"
   ]
  },
  {
   "cell_type": "code",
   "execution_count": 11,
   "id": "d3ae342e-6479-4478-875d-d8fe3b7ca7db",
   "metadata": {},
   "outputs": [
    {
     "name": "stdout",
     "output_type": "stream",
     "text": [
      "number of unique words =  1047\n"
     ]
    }
   ],
   "source": [
    "vocab_size = len(tokenizer.word_index)\n",
    "print('number of unique words = ', vocab_size)"
   ]
  },
  {
   "cell_type": "code",
   "execution_count": 13,
   "id": "03faa3e5-56b2-4ed7-9c0e-782e65c72f76",
   "metadata": {},
   "outputs": [
    {
     "name": "stdout",
     "output_type": "stream",
     "text": [
      "X shape =  (1056, 21)\n",
      "y shape =  (1056,)\n",
      "num of classes =  219\n"
     ]
    }
   ],
   "source": [
    "from tensorflow.keras.preprocessing.sequence import pad_sequences\n",
    "from sklearn.preprocessing import LabelEncoder\n",
    "\n",
    "ptrn2seq = tokenizer.texts_to_sequences(df['text'])\n",
    "X = pad_sequences(ptrn2seq, padding='post')\n",
    "print('X shape = ', X.shape)\n",
    "\n",
    "lbl_enc = LabelEncoder()\n",
    "y = lbl_enc.fit_transform(df['intent'])\n",
    "print('y shape = ', y.shape)\n",
    "print('num of classes = ', len(np.unique(y)))"
   ]
  },
  {
   "cell_type": "code",
   "execution_count": 15,
   "id": "97164fb5-27ac-4bfb-8af4-15f003f58e52",
   "metadata": {},
   "outputs": [],
   "source": [
    "import tensorflow\n",
    "from tensorflow import keras\n",
    "from tensorflow.keras.models import Sequential\n",
    "from tensorflow.keras.layers import Input, Embedding, LSTM, LayerNormalization, Dense, Dropout\n",
    "from tensorflow.keras.utils import plot_model\n",
    "\n",
    "model = Sequential()\n",
    "# Initialize the Sequential model\n",
    "\n",
    "# Add Input layer\n",
    "model.add(Input(shape=(X.shape[1],)))\n",
    "\n",
    "# Add Embedding layer\n",
    "model.add(Embedding(input_dim=vocab_size + 1, output_dim=100, mask_zero=True))\n",
    "\n",
    "# Add LSTM and LayerNormalization layers\n",
    "model.add(LSTM(32, return_sequences=True))\n",
    "model.add(LayerNormalization())\n",
    "\n",
    "model.add(LSTM(32, return_sequences=True))\n",
    "model.add(LayerNormalization())\n",
    "\n",
    "model.add(LSTM(32))\n",
    "model.add(LayerNormalization())\n",
    "\n",
    "# Add Dense, LayerNormalization, and Dropout layers\n",
    "model.add(Dense(128, activation=\"relu\"))\n",
    "model.add(LayerNormalization())\n",
    "model.add(Dropout(0.2))\n",
    "\n",
    "model.add(Dense(128, activation=\"relu\"))\n",
    "model.add(LayerNormalization())\n",
    "model.add(Dropout(0.2))\n",
    "\n",
    "# Output layer with the number of unique labels in y\n",
    "model.add(Dense(len(np.unique(y)), activation=\"softmax\"))"
   ]
  },
  {
   "cell_type": "code",
   "execution_count": 17,
   "id": "9a560c98-5739-4a3d-ad8b-c5443c99f178",
   "metadata": {},
   "outputs": [
    {
     "data": {
      "text/html": [
       "<pre style=\"white-space:pre;overflow-x:auto;line-height:normal;font-family:Menlo,'DejaVu Sans Mono',consolas,'Courier New',monospace\"><span style=\"font-weight: bold\">Model: \"sequential\"</span>\n",
       "</pre>\n"
      ],
      "text/plain": [
       "\u001b[1mModel: \"sequential\"\u001b[0m\n"
      ]
     },
     "metadata": {},
     "output_type": "display_data"
    },
    {
     "data": {
      "text/html": [
       "<pre style=\"white-space:pre;overflow-x:auto;line-height:normal;font-family:Menlo,'DejaVu Sans Mono',consolas,'Courier New',monospace\">┏━━━━━━━━━━━━━━━━━━━━━━━━━━━━━━━━━━━━━━┳━━━━━━━━━━━━━━━━━━━━━━━━━━━━━┳━━━━━━━━━━━━━━━━━┓\n",
       "┃<span style=\"font-weight: bold\"> Layer (type)                         </span>┃<span style=\"font-weight: bold\"> Output Shape                </span>┃<span style=\"font-weight: bold\">         Param # </span>┃\n",
       "┡━━━━━━━━━━━━━━━━━━━━━━━━━━━━━━━━━━━━━━╇━━━━━━━━━━━━━━━━━━━━━━━━━━━━━╇━━━━━━━━━━━━━━━━━┩\n",
       "│ embedding (<span style=\"color: #0087ff; text-decoration-color: #0087ff\">Embedding</span>)                │ (<span style=\"color: #00d7ff; text-decoration-color: #00d7ff\">None</span>, <span style=\"color: #00af00; text-decoration-color: #00af00\">21</span>, <span style=\"color: #00af00; text-decoration-color: #00af00\">100</span>)             │         <span style=\"color: #00af00; text-decoration-color: #00af00\">104,800</span> │\n",
       "├──────────────────────────────────────┼─────────────────────────────┼─────────────────┤\n",
       "│ lstm (<span style=\"color: #0087ff; text-decoration-color: #0087ff\">LSTM</span>)                          │ (<span style=\"color: #00d7ff; text-decoration-color: #00d7ff\">None</span>, <span style=\"color: #00af00; text-decoration-color: #00af00\">21</span>, <span style=\"color: #00af00; text-decoration-color: #00af00\">32</span>)              │          <span style=\"color: #00af00; text-decoration-color: #00af00\">17,024</span> │\n",
       "├──────────────────────────────────────┼─────────────────────────────┼─────────────────┤\n",
       "│ layer_normalization                  │ (<span style=\"color: #00d7ff; text-decoration-color: #00d7ff\">None</span>, <span style=\"color: #00af00; text-decoration-color: #00af00\">21</span>, <span style=\"color: #00af00; text-decoration-color: #00af00\">32</span>)              │              <span style=\"color: #00af00; text-decoration-color: #00af00\">64</span> │\n",
       "│ (<span style=\"color: #0087ff; text-decoration-color: #0087ff\">LayerNormalization</span>)                 │                             │                 │\n",
       "├──────────────────────────────────────┼─────────────────────────────┼─────────────────┤\n",
       "│ lstm_1 (<span style=\"color: #0087ff; text-decoration-color: #0087ff\">LSTM</span>)                        │ (<span style=\"color: #00d7ff; text-decoration-color: #00d7ff\">None</span>, <span style=\"color: #00af00; text-decoration-color: #00af00\">21</span>, <span style=\"color: #00af00; text-decoration-color: #00af00\">32</span>)              │           <span style=\"color: #00af00; text-decoration-color: #00af00\">8,320</span> │\n",
       "├──────────────────────────────────────┼─────────────────────────────┼─────────────────┤\n",
       "│ layer_normalization_1                │ (<span style=\"color: #00d7ff; text-decoration-color: #00d7ff\">None</span>, <span style=\"color: #00af00; text-decoration-color: #00af00\">21</span>, <span style=\"color: #00af00; text-decoration-color: #00af00\">32</span>)              │              <span style=\"color: #00af00; text-decoration-color: #00af00\">64</span> │\n",
       "│ (<span style=\"color: #0087ff; text-decoration-color: #0087ff\">LayerNormalization</span>)                 │                             │                 │\n",
       "├──────────────────────────────────────┼─────────────────────────────┼─────────────────┤\n",
       "│ lstm_2 (<span style=\"color: #0087ff; text-decoration-color: #0087ff\">LSTM</span>)                        │ (<span style=\"color: #00d7ff; text-decoration-color: #00d7ff\">None</span>, <span style=\"color: #00af00; text-decoration-color: #00af00\">32</span>)                  │           <span style=\"color: #00af00; text-decoration-color: #00af00\">8,320</span> │\n",
       "├──────────────────────────────────────┼─────────────────────────────┼─────────────────┤\n",
       "│ layer_normalization_2                │ (<span style=\"color: #00d7ff; text-decoration-color: #00d7ff\">None</span>, <span style=\"color: #00af00; text-decoration-color: #00af00\">32</span>)                  │              <span style=\"color: #00af00; text-decoration-color: #00af00\">64</span> │\n",
       "│ (<span style=\"color: #0087ff; text-decoration-color: #0087ff\">LayerNormalization</span>)                 │                             │                 │\n",
       "├──────────────────────────────────────┼─────────────────────────────┼─────────────────┤\n",
       "│ dense (<span style=\"color: #0087ff; text-decoration-color: #0087ff\">Dense</span>)                        │ (<span style=\"color: #00d7ff; text-decoration-color: #00d7ff\">None</span>, <span style=\"color: #00af00; text-decoration-color: #00af00\">128</span>)                 │           <span style=\"color: #00af00; text-decoration-color: #00af00\">4,224</span> │\n",
       "├──────────────────────────────────────┼─────────────────────────────┼─────────────────┤\n",
       "│ layer_normalization_3                │ (<span style=\"color: #00d7ff; text-decoration-color: #00d7ff\">None</span>, <span style=\"color: #00af00; text-decoration-color: #00af00\">128</span>)                 │             <span style=\"color: #00af00; text-decoration-color: #00af00\">256</span> │\n",
       "│ (<span style=\"color: #0087ff; text-decoration-color: #0087ff\">LayerNormalization</span>)                 │                             │                 │\n",
       "├──────────────────────────────────────┼─────────────────────────────┼─────────────────┤\n",
       "│ dropout (<span style=\"color: #0087ff; text-decoration-color: #0087ff\">Dropout</span>)                    │ (<span style=\"color: #00d7ff; text-decoration-color: #00d7ff\">None</span>, <span style=\"color: #00af00; text-decoration-color: #00af00\">128</span>)                 │               <span style=\"color: #00af00; text-decoration-color: #00af00\">0</span> │\n",
       "├──────────────────────────────────────┼─────────────────────────────┼─────────────────┤\n",
       "│ dense_1 (<span style=\"color: #0087ff; text-decoration-color: #0087ff\">Dense</span>)                      │ (<span style=\"color: #00d7ff; text-decoration-color: #00d7ff\">None</span>, <span style=\"color: #00af00; text-decoration-color: #00af00\">128</span>)                 │          <span style=\"color: #00af00; text-decoration-color: #00af00\">16,512</span> │\n",
       "├──────────────────────────────────────┼─────────────────────────────┼─────────────────┤\n",
       "│ layer_normalization_4                │ (<span style=\"color: #00d7ff; text-decoration-color: #00d7ff\">None</span>, <span style=\"color: #00af00; text-decoration-color: #00af00\">128</span>)                 │             <span style=\"color: #00af00; text-decoration-color: #00af00\">256</span> │\n",
       "│ (<span style=\"color: #0087ff; text-decoration-color: #0087ff\">LayerNormalization</span>)                 │                             │                 │\n",
       "├──────────────────────────────────────┼─────────────────────────────┼─────────────────┤\n",
       "│ dropout_1 (<span style=\"color: #0087ff; text-decoration-color: #0087ff\">Dropout</span>)                  │ (<span style=\"color: #00d7ff; text-decoration-color: #00d7ff\">None</span>, <span style=\"color: #00af00; text-decoration-color: #00af00\">128</span>)                 │               <span style=\"color: #00af00; text-decoration-color: #00af00\">0</span> │\n",
       "├──────────────────────────────────────┼─────────────────────────────┼─────────────────┤\n",
       "│ dense_2 (<span style=\"color: #0087ff; text-decoration-color: #0087ff\">Dense</span>)                      │ (<span style=\"color: #00d7ff; text-decoration-color: #00d7ff\">None</span>, <span style=\"color: #00af00; text-decoration-color: #00af00\">219</span>)                 │          <span style=\"color: #00af00; text-decoration-color: #00af00\">28,251</span> │\n",
       "└──────────────────────────────────────┴─────────────────────────────┴─────────────────┘\n",
       "</pre>\n"
      ],
      "text/plain": [
       "┏━━━━━━━━━━━━━━━━━━━━━━━━━━━━━━━━━━━━━━┳━━━━━━━━━━━━━━━━━━━━━━━━━━━━━┳━━━━━━━━━━━━━━━━━┓\n",
       "┃\u001b[1m \u001b[0m\u001b[1mLayer (type)                        \u001b[0m\u001b[1m \u001b[0m┃\u001b[1m \u001b[0m\u001b[1mOutput Shape               \u001b[0m\u001b[1m \u001b[0m┃\u001b[1m \u001b[0m\u001b[1m        Param #\u001b[0m\u001b[1m \u001b[0m┃\n",
       "┡━━━━━━━━━━━━━━━━━━━━━━━━━━━━━━━━━━━━━━╇━━━━━━━━━━━━━━━━━━━━━━━━━━━━━╇━━━━━━━━━━━━━━━━━┩\n",
       "│ embedding (\u001b[38;5;33mEmbedding\u001b[0m)                │ (\u001b[38;5;45mNone\u001b[0m, \u001b[38;5;34m21\u001b[0m, \u001b[38;5;34m100\u001b[0m)             │         \u001b[38;5;34m104,800\u001b[0m │\n",
       "├──────────────────────────────────────┼─────────────────────────────┼─────────────────┤\n",
       "│ lstm (\u001b[38;5;33mLSTM\u001b[0m)                          │ (\u001b[38;5;45mNone\u001b[0m, \u001b[38;5;34m21\u001b[0m, \u001b[38;5;34m32\u001b[0m)              │          \u001b[38;5;34m17,024\u001b[0m │\n",
       "├──────────────────────────────────────┼─────────────────────────────┼─────────────────┤\n",
       "│ layer_normalization                  │ (\u001b[38;5;45mNone\u001b[0m, \u001b[38;5;34m21\u001b[0m, \u001b[38;5;34m32\u001b[0m)              │              \u001b[38;5;34m64\u001b[0m │\n",
       "│ (\u001b[38;5;33mLayerNormalization\u001b[0m)                 │                             │                 │\n",
       "├──────────────────────────────────────┼─────────────────────────────┼─────────────────┤\n",
       "│ lstm_1 (\u001b[38;5;33mLSTM\u001b[0m)                        │ (\u001b[38;5;45mNone\u001b[0m, \u001b[38;5;34m21\u001b[0m, \u001b[38;5;34m32\u001b[0m)              │           \u001b[38;5;34m8,320\u001b[0m │\n",
       "├──────────────────────────────────────┼─────────────────────────────┼─────────────────┤\n",
       "│ layer_normalization_1                │ (\u001b[38;5;45mNone\u001b[0m, \u001b[38;5;34m21\u001b[0m, \u001b[38;5;34m32\u001b[0m)              │              \u001b[38;5;34m64\u001b[0m │\n",
       "│ (\u001b[38;5;33mLayerNormalization\u001b[0m)                 │                             │                 │\n",
       "├──────────────────────────────────────┼─────────────────────────────┼─────────────────┤\n",
       "│ lstm_2 (\u001b[38;5;33mLSTM\u001b[0m)                        │ (\u001b[38;5;45mNone\u001b[0m, \u001b[38;5;34m32\u001b[0m)                  │           \u001b[38;5;34m8,320\u001b[0m │\n",
       "├──────────────────────────────────────┼─────────────────────────────┼─────────────────┤\n",
       "│ layer_normalization_2                │ (\u001b[38;5;45mNone\u001b[0m, \u001b[38;5;34m32\u001b[0m)                  │              \u001b[38;5;34m64\u001b[0m │\n",
       "│ (\u001b[38;5;33mLayerNormalization\u001b[0m)                 │                             │                 │\n",
       "├──────────────────────────────────────┼─────────────────────────────┼─────────────────┤\n",
       "│ dense (\u001b[38;5;33mDense\u001b[0m)                        │ (\u001b[38;5;45mNone\u001b[0m, \u001b[38;5;34m128\u001b[0m)                 │           \u001b[38;5;34m4,224\u001b[0m │\n",
       "├──────────────────────────────────────┼─────────────────────────────┼─────────────────┤\n",
       "│ layer_normalization_3                │ (\u001b[38;5;45mNone\u001b[0m, \u001b[38;5;34m128\u001b[0m)                 │             \u001b[38;5;34m256\u001b[0m │\n",
       "│ (\u001b[38;5;33mLayerNormalization\u001b[0m)                 │                             │                 │\n",
       "├──────────────────────────────────────┼─────────────────────────────┼─────────────────┤\n",
       "│ dropout (\u001b[38;5;33mDropout\u001b[0m)                    │ (\u001b[38;5;45mNone\u001b[0m, \u001b[38;5;34m128\u001b[0m)                 │               \u001b[38;5;34m0\u001b[0m │\n",
       "├──────────────────────────────────────┼─────────────────────────────┼─────────────────┤\n",
       "│ dense_1 (\u001b[38;5;33mDense\u001b[0m)                      │ (\u001b[38;5;45mNone\u001b[0m, \u001b[38;5;34m128\u001b[0m)                 │          \u001b[38;5;34m16,512\u001b[0m │\n",
       "├──────────────────────────────────────┼─────────────────────────────┼─────────────────┤\n",
       "│ layer_normalization_4                │ (\u001b[38;5;45mNone\u001b[0m, \u001b[38;5;34m128\u001b[0m)                 │             \u001b[38;5;34m256\u001b[0m │\n",
       "│ (\u001b[38;5;33mLayerNormalization\u001b[0m)                 │                             │                 │\n",
       "├──────────────────────────────────────┼─────────────────────────────┼─────────────────┤\n",
       "│ dropout_1 (\u001b[38;5;33mDropout\u001b[0m)                  │ (\u001b[38;5;45mNone\u001b[0m, \u001b[38;5;34m128\u001b[0m)                 │               \u001b[38;5;34m0\u001b[0m │\n",
       "├──────────────────────────────────────┼─────────────────────────────┼─────────────────┤\n",
       "│ dense_2 (\u001b[38;5;33mDense\u001b[0m)                      │ (\u001b[38;5;45mNone\u001b[0m, \u001b[38;5;34m219\u001b[0m)                 │          \u001b[38;5;34m28,251\u001b[0m │\n",
       "└──────────────────────────────────────┴─────────────────────────────┴─────────────────┘\n"
      ]
     },
     "metadata": {},
     "output_type": "display_data"
    },
    {
     "data": {
      "text/html": [
       "<pre style=\"white-space:pre;overflow-x:auto;line-height:normal;font-family:Menlo,'DejaVu Sans Mono',consolas,'Courier New',monospace\"><span style=\"font-weight: bold\"> Total params: </span><span style=\"color: #00af00; text-decoration-color: #00af00\">188,155</span> (734.98 KB)\n",
       "</pre>\n"
      ],
      "text/plain": [
       "\u001b[1m Total params: \u001b[0m\u001b[38;5;34m188,155\u001b[0m (734.98 KB)\n"
      ]
     },
     "metadata": {},
     "output_type": "display_data"
    },
    {
     "data": {
      "text/html": [
       "<pre style=\"white-space:pre;overflow-x:auto;line-height:normal;font-family:Menlo,'DejaVu Sans Mono',consolas,'Courier New',monospace\"><span style=\"font-weight: bold\"> Trainable params: </span><span style=\"color: #00af00; text-decoration-color: #00af00\">188,155</span> (734.98 KB)\n",
       "</pre>\n"
      ],
      "text/plain": [
       "\u001b[1m Trainable params: \u001b[0m\u001b[38;5;34m188,155\u001b[0m (734.98 KB)\n"
      ]
     },
     "metadata": {},
     "output_type": "display_data"
    },
    {
     "data": {
      "text/html": [
       "<pre style=\"white-space:pre;overflow-x:auto;line-height:normal;font-family:Menlo,'DejaVu Sans Mono',consolas,'Courier New',monospace\"><span style=\"font-weight: bold\"> Non-trainable params: </span><span style=\"color: #00af00; text-decoration-color: #00af00\">0</span> (0.00 B)\n",
       "</pre>\n"
      ],
      "text/plain": [
       "\u001b[1m Non-trainable params: \u001b[0m\u001b[38;5;34m0\u001b[0m (0.00 B)\n"
      ]
     },
     "metadata": {},
     "output_type": "display_data"
    }
   ],
   "source": [
    "model.summary()"
   ]
  },
  {
   "cell_type": "code",
   "execution_count": 19,
   "id": "bd10defe-895e-43bd-956e-3b500f929000",
   "metadata": {},
   "outputs": [],
   "source": [
    "model.compile(optimizer='adam', loss=\"sparse_categorical_crossentropy\", metrics=['accuracy'])"
   ]
  },
  {
   "cell_type": "code",
   "execution_count": 21,
   "id": "526eaad1-decb-4b8a-a6d0-960ec6d39874",
   "metadata": {},
   "outputs": [
    {
     "name": "stdout",
     "output_type": "stream",
     "text": [
      "Epoch 1/50\n",
      "\u001b[1m106/106\u001b[0m \u001b[32m━━━━━━━━━━━━━━━━━━━━\u001b[0m\u001b[37m\u001b[0m \u001b[1m10s\u001b[0m 15ms/step - accuracy: 0.0137 - loss: 5.7958\n",
      "Epoch 2/50\n",
      "\u001b[1m106/106\u001b[0m \u001b[32m━━━━━━━━━━━━━━━━━━━━\u001b[0m\u001b[37m\u001b[0m \u001b[1m2s\u001b[0m 14ms/step - accuracy: 0.0568 - loss: 5.0945\n",
      "Epoch 3/50\n",
      "\u001b[1m106/106\u001b[0m \u001b[32m━━━━━━━━━━━━━━━━━━━━\u001b[0m\u001b[37m\u001b[0m \u001b[1m2s\u001b[0m 14ms/step - accuracy: 0.1337 - loss: 4.3488\n",
      "Epoch 4/50\n",
      "\u001b[1m106/106\u001b[0m \u001b[32m━━━━━━━━━━━━━━━━━━━━\u001b[0m\u001b[37m\u001b[0m \u001b[1m2s\u001b[0m 14ms/step - accuracy: 0.2521 - loss: 3.7054\n",
      "Epoch 5/50\n",
      "\u001b[1m106/106\u001b[0m \u001b[32m━━━━━━━━━━━━━━━━━━━━\u001b[0m\u001b[37m\u001b[0m \u001b[1m2s\u001b[0m 15ms/step - accuracy: 0.3210 - loss: 3.1181\n",
      "Epoch 6/50\n",
      "\u001b[1m106/106\u001b[0m \u001b[32m━━━━━━━━━━━━━━━━━━━━\u001b[0m\u001b[37m\u001b[0m \u001b[1m2s\u001b[0m 15ms/step - accuracy: 0.4810 - loss: 2.3840\n",
      "Epoch 7/50\n",
      "\u001b[1m106/106\u001b[0m \u001b[32m━━━━━━━━━━━━━━━━━━━━\u001b[0m\u001b[37m\u001b[0m \u001b[1m2s\u001b[0m 15ms/step - accuracy: 0.5045 - loss: 2.0491\n",
      "Epoch 8/50\n",
      "\u001b[1m106/106\u001b[0m \u001b[32m━━━━━━━━━━━━━━━━━━━━\u001b[0m\u001b[37m\u001b[0m \u001b[1m2s\u001b[0m 15ms/step - accuracy: 0.6437 - loss: 1.6707\n",
      "Epoch 9/50\n",
      "\u001b[1m106/106\u001b[0m \u001b[32m━━━━━━━━━━━━━━━━━━━━\u001b[0m\u001b[37m\u001b[0m \u001b[1m2s\u001b[0m 16ms/step - accuracy: 0.7437 - loss: 1.1843\n",
      "Epoch 10/50\n",
      "\u001b[1m106/106\u001b[0m \u001b[32m━━━━━━━━━━━━━━━━━━━━\u001b[0m\u001b[37m\u001b[0m \u001b[1m2s\u001b[0m 16ms/step - accuracy: 0.7611 - loss: 1.0338\n",
      "Epoch 11/50\n",
      "\u001b[1m106/106\u001b[0m \u001b[32m━━━━━━━━━━━━━━━━━━━━\u001b[0m\u001b[37m\u001b[0m \u001b[1m2s\u001b[0m 15ms/step - accuracy: 0.8244 - loss: 0.7999\n",
      "Epoch 12/50\n",
      "\u001b[1m106/106\u001b[0m \u001b[32m━━━━━━━━━━━━━━━━━━━━\u001b[0m\u001b[37m\u001b[0m \u001b[1m2s\u001b[0m 15ms/step - accuracy: 0.8639 - loss: 0.6224\n",
      "Epoch 13/50\n",
      "\u001b[1m106/106\u001b[0m \u001b[32m━━━━━━━━━━━━━━━━━━━━\u001b[0m\u001b[37m\u001b[0m \u001b[1m2s\u001b[0m 15ms/step - accuracy: 0.8968 - loss: 0.5229\n",
      "Epoch 14/50\n",
      "\u001b[1m106/106\u001b[0m \u001b[32m━━━━━━━━━━━━━━━━━━━━\u001b[0m\u001b[37m\u001b[0m \u001b[1m2s\u001b[0m 15ms/step - accuracy: 0.9119 - loss: 0.4273\n",
      "Epoch 15/50\n",
      "\u001b[1m106/106\u001b[0m \u001b[32m━━━━━━━━━━━━━━━━━━━━\u001b[0m\u001b[37m\u001b[0m \u001b[1m2s\u001b[0m 16ms/step - accuracy: 0.9127 - loss: 0.3775\n",
      "Epoch 16/50\n",
      "\u001b[1m106/106\u001b[0m \u001b[32m━━━━━━━━━━━━━━━━━━━━\u001b[0m\u001b[37m\u001b[0m \u001b[1m2s\u001b[0m 15ms/step - accuracy: 0.9434 - loss: 0.2931\n",
      "Epoch 17/50\n",
      "\u001b[1m106/106\u001b[0m \u001b[32m━━━━━━━━━━━━━━━━━━━━\u001b[0m\u001b[37m\u001b[0m \u001b[1m2s\u001b[0m 15ms/step - accuracy: 0.9265 - loss: 0.2670\n",
      "Epoch 18/50\n",
      "\u001b[1m106/106\u001b[0m \u001b[32m━━━━━━━━━━━━━━━━━━━━\u001b[0m\u001b[37m\u001b[0m \u001b[1m2s\u001b[0m 15ms/step - accuracy: 0.9527 - loss: 0.2252\n",
      "Epoch 19/50\n",
      "\u001b[1m106/106\u001b[0m \u001b[32m━━━━━━━━━━━━━━━━━━━━\u001b[0m\u001b[37m\u001b[0m \u001b[1m2s\u001b[0m 16ms/step - accuracy: 0.9361 - loss: 0.2532\n",
      "Epoch 20/50\n",
      "\u001b[1m106/106\u001b[0m \u001b[32m━━━━━━━━━━━━━━━━━━━━\u001b[0m\u001b[37m\u001b[0m \u001b[1m2s\u001b[0m 15ms/step - accuracy: 0.9379 - loss: 0.2480\n",
      "Epoch 21/50\n",
      "\u001b[1m106/106\u001b[0m \u001b[32m━━━━━━━━━━━━━━━━━━━━\u001b[0m\u001b[37m\u001b[0m \u001b[1m2s\u001b[0m 16ms/step - accuracy: 0.9230 - loss: 0.2780\n"
     ]
    }
   ],
   "source": [
    "model_history = model.fit(x=X,\n",
    "                          y=y,\n",
    "                          batch_size=10,\n",
    "                          callbacks=[tensorflow.keras.callbacks.EarlyStopping(monitor='accuracy', patience=3)],\n",
    "                          epochs=50)"
   ]
  },
  {
   "cell_type": "code",
   "execution_count": 23,
   "id": "a4f759e6-b1cf-45ab-ab5e-1e5a399b8971",
   "metadata": {},
   "outputs": [],
   "source": [
    "import re\n",
    "import random"
   ]
  },
  {
   "cell_type": "code",
   "execution_count": 25,
   "id": "aaad9428-ecc5-4c0a-818c-a8ccf9d3bc7f",
   "metadata": {},
   "outputs": [],
   "source": [
    "def generate_answer(pattern): \n",
    "    text = []\n",
    "    txt = re.sub('[^a-zA-Z\\']', ' ', pattern)\n",
    "    txt = txt.lower()\n",
    "    txt = txt.split()\n",
    "    txt = \" \".join(txt)\n",
    "    text.append(txt)\n",
    "        \n",
    "    x_test = tokenizer.texts_to_sequences(text)\n",
    "    x_test = np.array(x_test).squeeze()\n",
    "    x_test = pad_sequences([x_test], padding='post', maxlen=X.shape[1])\n",
    "    y_pred = model.predict(x_test)\n",
    "    y_pred = y_pred.argmax()\n",
    "    tag = lbl_enc.inverse_transform([y_pred])[0]\n",
    "    responses = df[df['intent'] == tag]['responses'].values[0]\n",
    "\n",
    "    print(\"you: {}\".format(pattern))\n",
    "    print(\"Chitti The Chatbot: {}\".format(random.choice(responses)))"
   ]
  },
  {
   "cell_type": "code",
   "execution_count": 27,
   "id": "2dd4cbd6-abeb-4a42-9ec7-c428c44312d3",
   "metadata": {},
   "outputs": [
    {
     "name": "stdout",
     "output_type": "stream",
     "text": [
      "\u001b[1m1/1\u001b[0m \u001b[32m━━━━━━━━━━━━━━━━━━━━\u001b[0m\u001b[37m\u001b[0m \u001b[1m1s\u001b[0m 590ms/step\n",
      "you: who is your creator\n",
      "Chitti The Chatbot: I was created by Strydo Technologies PVt.LTD.\n"
     ]
    }
   ],
   "source": [
    "generate_answer(\"who is your creator\")"
   ]
  },
  {
   "cell_type": "code",
   "execution_count": 29,
   "id": "681f9e5a-cb9d-42fe-bc62-cb9e1a469361",
   "metadata": {},
   "outputs": [
    {
     "name": "stderr",
     "output_type": "stream",
     "text": [
      "WARNING:absl:You are saving your model as an HDF5 file via `model.save()` or `keras.saving.save_model(model)`. This file format is considered legacy. We recommend using instead the native Keras format, e.g. `model.save('my_model.keras')` or `keras.saving.save_model(model, 'my_model.keras')`. \n"
     ]
    }
   ],
   "source": [
    "# Save the model\n",
    "model.save('education_chatbot_model1.h5')\n",
    "\n",
    "# Save the tokenizer\n",
    "with open('education_tokenizer1.json', 'w') as f:\n",
    "    json.dump(tokenizer.get_config(), f)\n",
    "\n",
    "# Save the label encoder\n",
    "with open('education_label_encoder1.json', 'w') as f:\n",
    "    json.dump(lbl_enc.get_params(), f)\n"
   ]
  },
  {
   "cell_type": "code",
   "execution_count": null,
   "id": "e4562d0d-545e-47cc-88d1-2e49eb965df0",
   "metadata": {},
   "outputs": [],
   "source": []
  }
 ],
 "metadata": {
  "kernelspec": {
   "display_name": "Python 3 (ipykernel)",
   "language": "python",
   "name": "python3"
  },
  "language_info": {
   "codemirror_mode": {
    "name": "ipython",
    "version": 3
   },
   "file_extension": ".py",
   "mimetype": "text/x-python",
   "name": "python",
   "nbconvert_exporter": "python",
   "pygments_lexer": "ipython3",
   "version": "3.12.4"
  }
 },
 "nbformat": 4,
 "nbformat_minor": 5
}
